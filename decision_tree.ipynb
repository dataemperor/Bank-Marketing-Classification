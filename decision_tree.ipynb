{
 "cells": [
  {
   "cell_type": "markdown",
   "metadata": {},
   "source": [
    "# Decision Tree"
   ]
  },
  {
   "cell_type": "markdown",
   "metadata": {},
   "source": [
    "## Imports"
   ]
  },
  {
   "cell_type": "code",
   "execution_count": 43,
   "metadata": {},
   "outputs": [],
   "source": [
    "import numpy as np\n",
    "import pandas as pd\n",
    "import tensorflow as tf \n",
    "from sklearn.preprocessing import LabelEncoder\n",
    "from sklearn.preprocessing import StandardScaler\n",
    "from sklearn.model_selection import train_test_split\n",
    "from sklearn.ensemble import RandomForestClassifier\n",
    "from sklearn.metrics import accuracy_score\n",
    "from sklearn.metrics import classification_report\n",
    "from sklearn.metrics import confusion_matrix\n",
    "from sklearn import metrics\n",
    "import matplotlib.pyplot as plt\n",
    "from imblearn.over_sampling import SMOTE\n",
    "from sklearn.model_selection import GridSearchCV\n",
    "from imblearn.combine import SMOTEENN\n",
    "from imblearn.ensemble import BalancedRandomForestClassifier"
   ]
  },
  {
   "cell_type": "markdown",
   "metadata": {},
   "source": [
    "## Preprocessing"
   ]
  },
  {
   "cell_type": "markdown",
   "metadata": {},
   "source": [
    "### Loading Dataset"
   ]
  },
  {
   "cell_type": "code",
   "execution_count": 44,
   "metadata": {},
   "outputs": [
    {
     "data": {
      "text/html": [
       "<div>\n",
       "<style scoped>\n",
       "    .dataframe tbody tr th:only-of-type {\n",
       "        vertical-align: middle;\n",
       "    }\n",
       "\n",
       "    .dataframe tbody tr th {\n",
       "        vertical-align: top;\n",
       "    }\n",
       "\n",
       "    .dataframe thead th {\n",
       "        text-align: right;\n",
       "    }\n",
       "</style>\n",
       "<table border=\"1\" class=\"dataframe\">\n",
       "  <thead>\n",
       "    <tr style=\"text-align: right;\">\n",
       "      <th></th>\n",
       "      <th>age</th>\n",
       "      <th>job</th>\n",
       "      <th>marital</th>\n",
       "      <th>education</th>\n",
       "      <th>default</th>\n",
       "      <th>housing</th>\n",
       "      <th>loan</th>\n",
       "      <th>contact</th>\n",
       "      <th>month</th>\n",
       "      <th>day_of_week</th>\n",
       "      <th>...</th>\n",
       "      <th>campaign</th>\n",
       "      <th>pdays</th>\n",
       "      <th>previous</th>\n",
       "      <th>poutcome</th>\n",
       "      <th>emp.var.rate</th>\n",
       "      <th>cons.price.idx</th>\n",
       "      <th>cons.conf.idx</th>\n",
       "      <th>euribor3m</th>\n",
       "      <th>nr.employed</th>\n",
       "      <th>y</th>\n",
       "    </tr>\n",
       "  </thead>\n",
       "  <tbody>\n",
       "    <tr>\n",
       "      <th>0</th>\n",
       "      <td>56</td>\n",
       "      <td>housemaid</td>\n",
       "      <td>married</td>\n",
       "      <td>basic.4y</td>\n",
       "      <td>no</td>\n",
       "      <td>no</td>\n",
       "      <td>no</td>\n",
       "      <td>telephone</td>\n",
       "      <td>may</td>\n",
       "      <td>mon</td>\n",
       "      <td>...</td>\n",
       "      <td>1</td>\n",
       "      <td>999</td>\n",
       "      <td>0</td>\n",
       "      <td>nonexistent</td>\n",
       "      <td>1.1</td>\n",
       "      <td>93.994</td>\n",
       "      <td>-36.4</td>\n",
       "      <td>4.857</td>\n",
       "      <td>5191.0</td>\n",
       "      <td>no</td>\n",
       "    </tr>\n",
       "    <tr>\n",
       "      <th>1</th>\n",
       "      <td>57</td>\n",
       "      <td>services</td>\n",
       "      <td>married</td>\n",
       "      <td>high.school</td>\n",
       "      <td>unknown</td>\n",
       "      <td>no</td>\n",
       "      <td>no</td>\n",
       "      <td>telephone</td>\n",
       "      <td>may</td>\n",
       "      <td>mon</td>\n",
       "      <td>...</td>\n",
       "      <td>1</td>\n",
       "      <td>999</td>\n",
       "      <td>0</td>\n",
       "      <td>nonexistent</td>\n",
       "      <td>1.1</td>\n",
       "      <td>93.994</td>\n",
       "      <td>-36.4</td>\n",
       "      <td>4.857</td>\n",
       "      <td>5191.0</td>\n",
       "      <td>no</td>\n",
       "    </tr>\n",
       "    <tr>\n",
       "      <th>2</th>\n",
       "      <td>37</td>\n",
       "      <td>services</td>\n",
       "      <td>married</td>\n",
       "      <td>high.school</td>\n",
       "      <td>no</td>\n",
       "      <td>yes</td>\n",
       "      <td>no</td>\n",
       "      <td>telephone</td>\n",
       "      <td>may</td>\n",
       "      <td>mon</td>\n",
       "      <td>...</td>\n",
       "      <td>1</td>\n",
       "      <td>999</td>\n",
       "      <td>0</td>\n",
       "      <td>nonexistent</td>\n",
       "      <td>1.1</td>\n",
       "      <td>93.994</td>\n",
       "      <td>-36.4</td>\n",
       "      <td>4.857</td>\n",
       "      <td>5191.0</td>\n",
       "      <td>no</td>\n",
       "    </tr>\n",
       "    <tr>\n",
       "      <th>3</th>\n",
       "      <td>40</td>\n",
       "      <td>admin.</td>\n",
       "      <td>married</td>\n",
       "      <td>basic.6y</td>\n",
       "      <td>no</td>\n",
       "      <td>no</td>\n",
       "      <td>no</td>\n",
       "      <td>telephone</td>\n",
       "      <td>may</td>\n",
       "      <td>mon</td>\n",
       "      <td>...</td>\n",
       "      <td>1</td>\n",
       "      <td>999</td>\n",
       "      <td>0</td>\n",
       "      <td>nonexistent</td>\n",
       "      <td>1.1</td>\n",
       "      <td>93.994</td>\n",
       "      <td>-36.4</td>\n",
       "      <td>4.857</td>\n",
       "      <td>5191.0</td>\n",
       "      <td>no</td>\n",
       "    </tr>\n",
       "    <tr>\n",
       "      <th>4</th>\n",
       "      <td>56</td>\n",
       "      <td>services</td>\n",
       "      <td>married</td>\n",
       "      <td>high.school</td>\n",
       "      <td>no</td>\n",
       "      <td>no</td>\n",
       "      <td>yes</td>\n",
       "      <td>telephone</td>\n",
       "      <td>may</td>\n",
       "      <td>mon</td>\n",
       "      <td>...</td>\n",
       "      <td>1</td>\n",
       "      <td>999</td>\n",
       "      <td>0</td>\n",
       "      <td>nonexistent</td>\n",
       "      <td>1.1</td>\n",
       "      <td>93.994</td>\n",
       "      <td>-36.4</td>\n",
       "      <td>4.857</td>\n",
       "      <td>5191.0</td>\n",
       "      <td>no</td>\n",
       "    </tr>\n",
       "  </tbody>\n",
       "</table>\n",
       "<p>5 rows × 21 columns</p>\n",
       "</div>"
      ],
      "text/plain": [
       "   age        job  marital    education  default housing loan    contact  \\\n",
       "0   56  housemaid  married     basic.4y       no      no   no  telephone   \n",
       "1   57   services  married  high.school  unknown      no   no  telephone   \n",
       "2   37   services  married  high.school       no     yes   no  telephone   \n",
       "3   40     admin.  married     basic.6y       no      no   no  telephone   \n",
       "4   56   services  married  high.school       no      no  yes  telephone   \n",
       "\n",
       "  month day_of_week  ...  campaign  pdays  previous     poutcome emp.var.rate  \\\n",
       "0   may         mon  ...         1    999         0  nonexistent          1.1   \n",
       "1   may         mon  ...         1    999         0  nonexistent          1.1   \n",
       "2   may         mon  ...         1    999         0  nonexistent          1.1   \n",
       "3   may         mon  ...         1    999         0  nonexistent          1.1   \n",
       "4   may         mon  ...         1    999         0  nonexistent          1.1   \n",
       "\n",
       "   cons.price.idx  cons.conf.idx  euribor3m  nr.employed   y  \n",
       "0          93.994          -36.4      4.857       5191.0  no  \n",
       "1          93.994          -36.4      4.857       5191.0  no  \n",
       "2          93.994          -36.4      4.857       5191.0  no  \n",
       "3          93.994          -36.4      4.857       5191.0  no  \n",
       "4          93.994          -36.4      4.857       5191.0  no  \n",
       "\n",
       "[5 rows x 21 columns]"
      ]
     },
     "execution_count": 44,
     "metadata": {},
     "output_type": "execute_result"
    }
   ],
   "source": [
    "filePath = \"bank-additional\\\\bank-additional\\\\bank-additional-full.csv\"\n",
    "data = pd.read_csv(filePath, sep=\";\")\n",
    "data.head()"
   ]
  },
  {
   "cell_type": "markdown",
   "metadata": {},
   "source": [
    "### Encoding Categorical Variables\n",
    "Transforming non-numeric labels into numeric labels."
   ]
  },
  {
   "cell_type": "code",
   "execution_count": 45,
   "metadata": {},
   "outputs": [],
   "source": [
    "categorical_label_encoder = LabelEncoder()\n",
    "\n",
    "for variable in data.select_dtypes(include=[\"object\"]).columns:\n",
    "    data[variable] = categorical_label_encoder.fit_transform(data[variable])"
   ]
  },
  {
   "cell_type": "markdown",
   "metadata": {},
   "source": [
    "### Seperating Features and the Target\n",
    "Seperating/Dropping the target variable (AKA the output variable) from the features (input variables). This is done because the model the target variable itself isn't used to train the model, instead the features are to train the model in order to predict the target variable; therefore, to prevent the model from learning incorrect patterns and because the model is evaluated on the target variable, it is necessary to drop the target variable."
   ]
  },
  {
   "cell_type": "code",
   "execution_count": 46,
   "metadata": {},
   "outputs": [],
   "source": [
    "features = data.drop(\"y\", axis=1)\n",
    "target = data[\"y\"]"
   ]
  },
  {
   "cell_type": "markdown",
   "metadata": {},
   "source": [
    "### Train Test Split\n",
    "A dataset is split into two parts, the training dataset and the testing dataset. This done so a model can be tested/evaluated after training it, without testing the model, it won't be possbile to find out whether a it is underfitted or overfitted (Bias-Variance Tradeoff)."
   ]
  },
  {
   "cell_type": "code",
   "execution_count": 47,
   "metadata": {},
   "outputs": [],
   "source": [
    "X_train, X_test, y_train, y_test = train_test_split(features, target, train_size=0.8, test_size=0.2, random_state=42)"
   ]
  },
  {
   "cell_type": "markdown",
   "metadata": {},
   "source": [
    "## Creating the Decision Tree Model"
   ]
  },
  {
   "cell_type": "code",
   "execution_count": 48,
   "metadata": {},
   "outputs": [],
   "source": [
    "random_forest_model = RandomForestClassifier()"
   ]
  },
  {
   "cell_type": "markdown",
   "metadata": {},
   "source": [
    "## Training the Decision Tree Model"
   ]
  },
  {
   "cell_type": "code",
   "execution_count": 49,
   "metadata": {},
   "outputs": [],
   "source": [
    "fit = random_forest_model.fit(X_train, y_train)"
   ]
  },
  {
   "cell_type": "markdown",
   "metadata": {},
   "source": [
    "## Testing the Decision Tree Model"
   ]
  },
  {
   "cell_type": "code",
   "execution_count": 50,
   "metadata": {},
   "outputs": [],
   "source": [
    "training_predictions = (random_forest_model.predict(X_train) > 0.5).astype(\"int32\")\n",
    "testing_predictions = (random_forest_model.predict(X_test) > 0.5).astype(\"int32\")"
   ]
  },
  {
   "cell_type": "markdown",
   "metadata": {},
   "source": [
    "### Accuracy Score"
   ]
  },
  {
   "cell_type": "code",
   "execution_count": 51,
   "metadata": {},
   "outputs": [
    {
     "name": "stdout",
     "output_type": "stream",
     "text": [
      "Training Accuracy:  1.0\n",
      "Testing Accuracy:  0.9129643117261471\n"
     ]
    }
   ],
   "source": [
    "model_accuracy_score_training = accuracy_score(y_train, training_predictions)\n",
    "model_accuracy_score_testing = accuracy_score(y_test, testing_predictions)\n",
    "print(\"Training Accuracy: \", model_accuracy_score_training)\n",
    "print(\"Testing Accuracy: \", model_accuracy_score_testing)"
   ]
  },
  {
   "cell_type": "markdown",
   "metadata": {},
   "source": [
    "### Confusion Matrix"
   ]
  },
  {
   "cell_type": "code",
   "execution_count": 52,
   "metadata": {},
   "outputs": [
    {
     "name": "stdout",
     "output_type": "stream",
     "text": [
      "[[7030  273]\n",
      " [ 444  491]]\n"
     ]
    },
    {
     "data": {
      "image/png": "[encoded data removed]",
      "text/plain": [
       "<Figure size 640x480 with 2 Axes>"
      ]
     },
     "metadata": {},
     "output_type": "display_data"
    }
   ],
   "source": [
    "model_confusion_matrix = confusion_matrix(y_test, testing_predictions)\n",
    "print(model_confusion_matrix)\n",
    "confusion_matrix_display = metrics.ConfusionMatrixDisplay(confusion_matrix=model_confusion_matrix)\n",
    "confusion_matrix_display.plot()\n",
    "plt.show()"
   ]
  },
  {
   "cell_type": "markdown",
   "metadata": {},
   "source": [
    "### Classification Report\n",
    "Since the dataset is an imbalanced dataset, the model will perform less efficiently on the minority class of \"1\" than the majority class of \"0\", causing the low precision, recall and f1-score despire having a high accuracy overall."
   ]
  },
  {
   "cell_type": "code",
   "execution_count": 53,
   "metadata": {},
   "outputs": [
    {
     "name": "stdout",
     "output_type": "stream",
     "text": [
      "              precision    recall  f1-score   support\n",
      "\n",
      "           0       0.94      0.96      0.95      7303\n",
      "           1       0.64      0.53      0.58       935\n",
      "\n",
      "    accuracy                           0.91      8238\n",
      "   macro avg       0.79      0.74      0.76      8238\n",
      "weighted avg       0.91      0.91      0.91      8238\n",
      "\n"
     ]
    }
   ],
   "source": [
    "model_classification_report = classification_report(y_test, testing_predictions)\n",
    "print(model_classification_report)"
   ]
  },
  {
   "cell_type": "markdown",
   "metadata": {},
   "source": [
    "## Improving the Model"
   ]
  },
  {
   "cell_type": "markdown",
   "metadata": {},
   "source": [
    "### Class Weights\n",
    "A method of dealing with class imbalance is the use of class weights, by assigning a greater class weight to the minority class and a lesser class weight the majority class, it reduces bias towards the majority class that arises from its higher support."
   ]
  },
  {
   "cell_type": "code",
   "execution_count": 54,
   "metadata": {},
   "outputs": [],
   "source": [
    "weighted_random_forest_model = RandomForestClassifier(class_weight={0: 50, 1: 1})\n",
    "\n",
    "weighted_fit = weighted_random_forest_model.fit(X_train, y_train)\n",
    "\n",
    "weighted_training_predictions = (weighted_random_forest_model.predict(X_train)).astype(\"int32\")\n",
    "weighted_testing_predictions = (weighted_random_forest_model.predict(X_test)).astype(\"int32\")\n"
   ]
  },
  {
   "cell_type": "markdown",
   "metadata": {},
   "source": [
    "#### Accuracy Score"
   ]
  },
  {
   "cell_type": "code",
   "execution_count": 55,
   "metadata": {},
   "outputs": [
    {
     "name": "stdout",
     "output_type": "stream",
     "text": [
      "Training Accuracy:  1.0\n",
      "Testing Accuracy:  0.9127215343529983\n"
     ]
    }
   ],
   "source": [
    "weighted_model_accuracy_score_training = accuracy_score(y_train, weighted_training_predictions)\n",
    "weighted_model_accuracy_score_testing = accuracy_score(y_test, weighted_testing_predictions)\n",
    "print(\"Training Accuracy: \", weighted_model_accuracy_score_training)\n",
    "print(\"Testing Accuracy: \", weighted_model_accuracy_score_testing)"
   ]
  },
  {
   "cell_type": "markdown",
   "metadata": {},
   "source": [
    "#### Confusion Matrix"
   ]
  },
  {
   "cell_type": "code",
   "execution_count": 56,
   "metadata": {},
   "outputs": [
    {
     "name": "stdout",
     "output_type": "stream",
     "text": [
      "[[7030  273]\n",
      " [ 444  491]]\n"
     ]
    },
    {
     "data": {
      "image/png": "[encoded data removed]",
      "text/plain": [
       "<Figure size 640x480 with 2 Axes>"
      ]
     },
     "metadata": {},
     "output_type": "display_data"
    }
   ],
   "source": [
    "weighted_model_confusion_matrix = confusion_matrix(y_test, testing_predictions)\n",
    "print(weighted_model_confusion_matrix)\n",
    "weighted_confusion_matrix_display = metrics.ConfusionMatrixDisplay(confusion_matrix=weighted_model_confusion_matrix)\n",
    "weighted_confusion_matrix_display.plot()\n",
    "plt.show()"
   ]
  },
  {
   "cell_type": "markdown",
   "metadata": {},
   "source": [
    "#### Classification Report"
   ]
  },
  {
   "cell_type": "code",
   "execution_count": 57,
   "metadata": {},
   "outputs": [
    {
     "name": "stdout",
     "output_type": "stream",
     "text": [
      "Classification report for the weighted model\n",
      "              precision    recall  f1-score   support\n",
      "\n",
      "           0       0.94      0.96      0.95      7303\n",
      "           1       0.63      0.56      0.59       935\n",
      "\n",
      "    accuracy                           0.91      8238\n",
      "   macro avg       0.79      0.76      0.77      8238\n",
      "weighted avg       0.91      0.91      0.91      8238\n",
      "\n",
      "\n",
      "Classification report for the unweighted model\n",
      "              precision    recall  f1-score   support\n",
      "\n",
      "           0       0.94      0.96      0.95      7303\n",
      "           1       0.64      0.53      0.58       935\n",
      "\n",
      "    accuracy                           0.91      8238\n",
      "   macro avg       0.79      0.74      0.76      8238\n",
      "weighted avg       0.91      0.91      0.91      8238\n",
      "\n"
     ]
    }
   ],
   "source": [
    "weighted_model_classification_report = classification_report(y_test, weighted_testing_predictions)\n",
    "\n",
    "print(\"Classification report for the weighted model\")\n",
    "print(weighted_model_classification_report)\n",
    "print(\"\\nClassification report for the unweighted model\")\n",
    "print(model_classification_report)"
   ]
  },
  {
   "cell_type": "markdown",
   "metadata": {},
   "source": [
    "#### Conclusion class weights\n",
    "The purpose behind implementing class weights in the model was to improve performance for the minority class, however as seen by the two classification reports, the weighted model has worse recall and f1-score for the minority class."
   ]
  },
  {
   "cell_type": "markdown",
   "metadata": {},
   "source": [
    "### SMOTE\n",
    "SMOTE is an oversampling technique that is used in medium to large imbalanced datasets in order to learn important patterns in a minority class and to mitigate the bias caused by the large support for the majority class."
   ]
  },
  {
   "cell_type": "code",
   "execution_count": 58,
   "metadata": {},
   "outputs": [],
   "source": [
    "smote = SMOTE(random_state=42)\n",
    "\n",
    "oversampled_X_train, oversampled_y_train = smote.fit_resample(X_train, y_train)\n",
    "\n",
    "overfitted_weighted_fit = weighted_random_forest_model.fit(oversampled_X_train, oversampled_y_train)\n",
    "\n",
    "oversampled_training_predictions = (weighted_random_forest_model.predict(X_train) > 0.5).astype(\"int32\")\n",
    "oversampled_testing_predictions = (weighted_random_forest_model.predict(X_test) > 0.5).astype(\"int32\")"
   ]
  },
  {
   "cell_type": "markdown",
   "metadata": {},
   "source": [
    "#### Accuracy Score"
   ]
  },
  {
   "cell_type": "code",
   "execution_count": 59,
   "metadata": {},
   "outputs": [
    {
     "name": "stdout",
     "output_type": "stream",
     "text": [
      "Training Accuracy:  1.0\n",
      "Testing Accuracy:  0.9047098810390871\n"
     ]
    }
   ],
   "source": [
    "oversampled_training_accuracy_score = accuracy_score(y_train, oversampled_training_predictions)\n",
    "oversampled_testing_accuracy_score = accuracy_score(y_test, oversampled_testing_predictions)\n",
    "print(\"Training Accuracy: \", oversampled_training_accuracy_score)\n",
    "print(\"Testing Accuracy: \", oversampled_testing_accuracy_score)"
   ]
  },
  {
   "cell_type": "markdown",
   "metadata": {},
   "source": [
    "#### Confusion Matrix"
   ]
  },
  {
   "cell_type": "code",
   "execution_count": 60,
   "metadata": {},
   "outputs": [
    {
     "name": "stdout",
     "output_type": "stream",
     "text": [
      "[[6780  523]\n",
      " [ 262  673]]\n"
     ]
    },
    {
     "data": {
      "image/png": "[encoded data removed]",
      "text/plain": [
       "<Figure size 640x480 with 2 Axes>"
      ]
     },
     "metadata": {},
     "output_type": "display_data"
    }
   ],
   "source": [
    "oversampled_confusion_matrix = confusion_matrix(y_test, oversampled_testing_predictions)\n",
    "print(oversampled_confusion_matrix)\n",
    "confusion_matrix_display = metrics.ConfusionMatrixDisplay(confusion_matrix=oversampled_confusion_matrix)\n",
    "confusion_matrix_display.plot()\n",
    "plt.show()"
   ]
  },
  {
   "cell_type": "markdown",
   "metadata": {},
   "source": [
    "#### Classification Report"
   ]
  },
  {
   "cell_type": "code",
   "execution_count": 61,
   "metadata": {},
   "outputs": [
    {
     "name": "stdout",
     "output_type": "stream",
     "text": [
      "              precision    recall  f1-score   support\n",
      "\n",
      "           0       0.96      0.93      0.95      7303\n",
      "           1       0.56      0.72      0.63       935\n",
      "\n",
      "    accuracy                           0.90      8238\n",
      "   macro avg       0.76      0.82      0.79      8238\n",
      "weighted avg       0.92      0.90      0.91      8238\n",
      "\n"
     ]
    }
   ],
   "source": [
    "oversampled_classification_report = classification_report(y_test, oversampled_testing_predictions)\n",
    "print(oversampled_classification_report)"
   ]
  },
  {
   "cell_type": "markdown",
   "metadata": {},
   "source": [
    "### Hyperparameter Optimization"
   ]
  },
  {
   "cell_type": "code",
   "execution_count": 62,
   "metadata": {},
   "outputs": [
    {
     "name": "stdout",
     "output_type": "stream",
     "text": [
      "{'n_estimators': [100, 500], 'max_features': [None, 'log2', 'sqrt'], 'bootstrap': [True, False]}\n"
     ]
    }
   ],
   "source": [
    "param_grid = {'n_estimators' : [int(x) for x in np.linspace(start = 100, stop = 500, num = 2)],\n",
    "'max_features' : [None, 'log2', 'sqrt'],\n",
    "'bootstrap' : [True, False]\n",
    "}\n",
    "print(param_grid)"
   ]
  },
  {
   "cell_type": "code",
   "execution_count": 63,
   "metadata": {},
   "outputs": [
    {
     "name": "stdout",
     "output_type": "stream",
     "text": [
      "Fitting 5 folds for each of 12 candidates, totalling 60 fits\n"
     ]
    },
    {
     "data": {
      "text/plain": [
       "{'bootstrap': True, 'max_features': 'log2', 'n_estimators': 500}"
      ]
     },
     "execution_count": 63,
     "metadata": {},
     "output_type": "execute_result"
    }
   ],
   "source": [
    "pre_optimized_random_forest_model = RandomForestClassifier()\n",
    "random_forest_grid = GridSearchCV(estimator = pre_optimized_random_forest_model, param_grid = param_grid, verbose = 2, n_jobs = -1)\n",
    "\n",
    "random_forest_grid.fit(X_train, y_train)\n",
    "random_forest_grid.best_params_"
   ]
  },
  {
   "cell_type": "code",
   "execution_count": 64,
   "metadata": {},
   "outputs": [],
   "source": [
    "optimized_random_forest_model = RandomForestClassifier(class_weight={0: 50, 1: 1}, bootstrap=True, max_features='log2', n_estimators=500)\n",
    "\n",
    "optimized_overfitted_weighted_fit = optimized_random_forest_model.fit(oversampled_X_train, oversampled_y_train)\n",
    "\n",
    "optimized_training_predictions = (optimized_random_forest_model.predict(X_train)).astype(\"int32\")\n",
    "optimized_testing_predictions = (optimized_random_forest_model.predict(X_test)).astype(\"int32\")"
   ]
  },
  {
   "cell_type": "markdown",
   "metadata": {},
   "source": [
    "#### Accuracy Score"
   ]
  },
  {
   "cell_type": "code",
   "execution_count": 65,
   "metadata": {},
   "outputs": [
    {
     "name": "stdout",
     "output_type": "stream",
     "text": [
      "Training Accuracy:  1.0\n",
      "Testing Accuracy:  0.9031318281136198\n"
     ]
    }
   ],
   "source": [
    "optimized_training_accuracy_score = accuracy_score(y_train, optimized_training_predictions)\n",
    "optimized_testing_accuracy_score = accuracy_score(y_test, optimized_testing_predictions)\n",
    "print(\"Training Accuracy: \", optimized_training_accuracy_score)\n",
    "print(\"Testing Accuracy: \", optimized_testing_accuracy_score)"
   ]
  },
  {
   "cell_type": "markdown",
   "metadata": {},
   "source": [
    "#### Confusion Matrix"
   ]
  },
  {
   "cell_type": "code",
   "execution_count": 67,
   "metadata": {},
   "outputs": [
    {
     "name": "stdout",
     "output_type": "stream",
     "text": [
      "[[6760  543]\n",
      " [ 255  680]]\n"
     ]
    },
    {
     "data": {
      "image/png": "[encoded data removed]",
      "text/plain": [
       "<Figure size 640x480 with 2 Axes>"
      ]
     },
     "metadata": {},
     "output_type": "display_data"
    }
   ],
   "source": [
    "optimized_confusion_matrix = confusion_matrix(y_test, optimized_testing_predictions)\n",
    "print(optimized_confusion_matrix)\n",
    "optimized_confusion_matrix_display = metrics.ConfusionMatrixDisplay(confusion_matrix=optimized_confusion_matrix)\n",
    "optimized_confusion_matrix_display.plot()\n",
    "plt.show()"
   ]
  },
  {
   "cell_type": "markdown",
   "metadata": {},
   "source": [
    "#### Classification Report"
   ]
  },
  {
   "cell_type": "code",
   "execution_count": 69,
   "metadata": {},
   "outputs": [
    {
     "name": "stdout",
     "output_type": "stream",
     "text": [
      "              precision    recall  f1-score   support\n",
      "\n",
      "           0       0.96      0.93      0.94      7303\n",
      "           1       0.56      0.73      0.63       935\n",
      "\n",
      "    accuracy                           0.90      8238\n",
      "   macro avg       0.76      0.83      0.79      8238\n",
      "weighted avg       0.92      0.90      0.91      8238\n",
      "\n"
     ]
    }
   ],
   "source": [
    "optimized_classification_report = classification_report(y_test, optimized_testing_predictions)\n",
    "print(optimized_classification_report)"
   ]
  },
  {
   "cell_type": "markdown",
   "metadata": {},
   "source": [
    "### Hybrid Sampling"
   ]
  },
  {
   "cell_type": "code",
   "execution_count": 70,
   "metadata": {},
   "outputs": [
    {
     "name": "stdout",
     "output_type": "stream",
     "text": [
      "              precision    recall  f1-score   support\n",
      "\n",
      "           0       0.98      0.87      0.93      7303\n",
      "           1       0.47      0.88      0.62       935\n",
      "\n",
      "    accuracy                           0.88      8238\n",
      "   macro avg       0.73      0.88      0.77      8238\n",
      "weighted avg       0.93      0.88      0.89      8238\n",
      "\n"
     ]
    }
   ],
   "source": [
    "smote_een = SMOTEENN(random_state=42)\n",
    "hybrid_X_train, hybrid_y_train = smote_een.fit_resample(X_train, y_train)\n",
    "\n",
    "hybrid_optimized_weighted_fit = optimized_random_forest_model.fit(hybrid_X_train, hybrid_y_train)\n",
    "\n",
    "hybrid_training_predictions = (optimized_random_forest_model.predict(X_train) > 0.5).astype(\"int32\")\n",
    "hybrid_testing_predictions = (optimized_random_forest_model.predict(X_test) > 0.5).astype(\"int32\")"
   ]
  },
  {
   "cell_type": "markdown",
   "metadata": {},
   "source": [
    "#### Accuracy Score"
   ]
  },
  {
   "cell_type": "code",
   "execution_count": 71,
   "metadata": {},
   "outputs": [
    {
     "name": "stdout",
     "output_type": "stream",
     "text": [
      "Training Accuracy:  1.0\n",
      "Testing Accuracy:  0.9031318281136198\n"
     ]
    }
   ],
   "source": [
    "hybrid_training_accuracy_score = accuracy_score(y_train, hybrid_training_predictions)\n",
    "hybrid_testing_accuracy_score = accuracy_score(y_test, hybrid_testing_predictions)\n",
    "print(\"Training Accuracy: \", optimized_training_accuracy_score)\n",
    "print(\"Testing Accuracy: \", optimized_testing_accuracy_score)"
   ]
  },
  {
   "cell_type": "markdown",
   "metadata": {},
   "source": [
    "#### Confusion Matrix"
   ]
  },
  {
   "cell_type": "code",
   "execution_count": 72,
   "metadata": {},
   "outputs": [
    {
     "name": "stdout",
     "output_type": "stream",
     "text": [
      "[[6388  915]\n",
      " [ 108  827]]\n"
     ]
    },
    {
     "data": {
      "image/png": "[encoded data removed]",
      "text/plain": [
       "<Figure size 640x480 with 2 Axes>"
      ]
     },
     "metadata": {},
     "output_type": "display_data"
    }
   ],
   "source": [
    "hybrid_confusion_matrix = confusion_matrix(y_test, hybrid_testing_predictions)\n",
    "print(hybrid_confusion_matrix)\n",
    "hybrid_confusion_matrix_display = metrics.ConfusionMatrixDisplay(confusion_matrix=hybrid_confusion_matrix)\n",
    "hybrid_confusion_matrix_display.plot()\n",
    "plt.show()"
   ]
  },
  {
   "cell_type": "markdown",
   "metadata": {},
   "source": [
    "#### Classification Report"
   ]
  },
  {
   "cell_type": "code",
   "execution_count": 73,
   "metadata": {},
   "outputs": [
    {
     "name": "stdout",
     "output_type": "stream",
     "text": [
      "              precision    recall  f1-score   support\n",
      "\n",
      "           0       0.98      0.87      0.93      7303\n",
      "           1       0.47      0.88      0.62       935\n",
      "\n",
      "    accuracy                           0.88      8238\n",
      "   macro avg       0.73      0.88      0.77      8238\n",
      "weighted avg       0.93      0.88      0.89      8238\n",
      "\n"
     ]
    }
   ],
   "source": [
    "hybrid_classification_report = classification_report(y_test, hybrid_testing_predictions)\n",
    "print(hybrid_classification_report)"
   ]
  },
  {
   "cell_type": "markdown",
   "metadata": {},
   "source": [
    "### Balanced Random Forest Classifier"
   ]
  },
  {
   "cell_type": "code",
   "execution_count": 74,
   "metadata": {},
   "outputs": [
    {
     "name": "stdout",
     "output_type": "stream",
     "text": [
      "              precision    recall  f1-score   support\n",
      "\n",
      "           0       0.99      0.87      0.92      7303\n",
      "           1       0.46      0.90      0.61       935\n",
      "\n",
      "    accuracy                           0.87      8238\n",
      "   macro avg       0.72      0.88      0.77      8238\n",
      "weighted avg       0.93      0.87      0.89      8238\n",
      "\n"
     ]
    }
   ],
   "source": [
    "balanced_random_forest_model = BalancedRandomForestClassifier(random_state=42)\n",
    "balanced_fit = balanced_random_forest_model.fit(X_train, y_train)\n",
    "\n",
    "balanced_training_predictions = (balanced_random_forest_model.predict(X_train) > 0.5).astype(\"int32\")\n",
    "balanced_testing_predictions = (balanced_random_forest_model.predict(X_test) > 0.5).astype(\"int32\")"
   ]
  },
  {
   "cell_type": "markdown",
   "metadata": {},
   "source": [
    "#### Accuracy Score "
   ]
  },
  {
   "cell_type": "code",
   "execution_count": 77,
   "metadata": {},
   "outputs": [
    {
     "name": "stdout",
     "output_type": "stream",
     "text": [
      "Training Accuracy:  0.9042488619119878\n",
      "Testing Accuracy:  0.8701141053653799\n"
     ]
    }
   ],
   "source": [
    "balanced_training_accuracy_score = accuracy_score(y_train, balanced_training_predictions)\n",
    "balanced_testing_accuracy_score = accuracy_score(y_test, balanced_testing_predictions)\n",
    "print(\"Training Accuracy: \", balanced_training_accuracy_score)\n",
    "print(\"Testing Accuracy: \", balanced_testing_accuracy_score)"
   ]
  },
  {
   "cell_type": "markdown",
   "metadata": {},
   "source": [
    "#### Confusion Matrix"
   ]
  },
  {
   "cell_type": "code",
   "execution_count": 79,
   "metadata": {},
   "outputs": [
    {
     "data": {
      "image/png": "[encoded data removed]",
      "text/plain": [
       "<Figure size 640x480 with 2 Axes>"
      ]
     },
     "metadata": {},
     "output_type": "display_data"
    }
   ],
   "source": [
    "balanced_confusion_matrix = confusion_matrix(y_test, balanced_testing_predictions)\n",
    "balanced_confusion_matrix_display = metrics.ConfusionMatrixDisplay(confusion_matrix=balanced_confusion_matrix)\n",
    "balanced_confusion_matrix_display.plot()\n",
    "plt.show() "
   ]
  },
  {
   "cell_type": "markdown",
   "metadata": {},
   "source": [
    "#### Classification Report"
   ]
  },
  {
   "cell_type": "code",
   "execution_count": 80,
   "metadata": {},
   "outputs": [
    {
     "name": "stdout",
     "output_type": "stream",
     "text": [
      "              precision    recall  f1-score   support\n",
      "\n",
      "           0       0.99      0.87      0.92      7303\n",
      "           1       0.46      0.90      0.61       935\n",
      "\n",
      "    accuracy                           0.87      8238\n",
      "   macro avg       0.72      0.88      0.77      8238\n",
      "weighted avg       0.93      0.87      0.89      8238\n",
      "\n"
     ]
    }
   ],
   "source": [
    "balanced_classification_report = classification_report(y_test, balanced_testing_predictions)\n",
    "print(balanced_classification_report)"
   ]
  }
 ],
 "metadata": {
  "kernelspec": {
   "display_name": "Python 3",
   "language": "python",
   "name": "python3"
  },
  "language_info": {
   "codemirror_mode": {
    "name": "ipython",
    "version": 3
   },
   "file_extension": ".py",
   "mimetype": "text/x-python",
   "name": "python",
   "nbconvert_exporter": "python",
   "pygments_lexer": "ipython3",
   "version": "3.11.3"
  }
 },
 "nbformat": 4,
 "nbformat_minor": 2
}
