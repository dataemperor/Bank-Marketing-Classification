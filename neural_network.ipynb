{
 "cells": [
  {
   "cell_type": "markdown",
   "metadata": {},
   "source": [
    "# Neural Network"
   ]
  },
  {
   "cell_type": "code",
   "execution_count": 52,
   "metadata": {},
   "outputs": [],
   "source": [
    "import numpy as np\n",
    "import pandas as pd\n",
    "import tensorflow as tf \n",
    "import math\n",
    "from tensorflow.keras.models import Sequential\n",
    "from tensorflow.keras.layers import Dense \n",
    "from sklearn.model_selection import train_test_split\n",
    "from sklearn.preprocessing import LabelEncoder\n",
    "from sklearn.preprocessing import StandardScaler\n",
    "from sklearn.metrics import accuracy_score\n",
    "from sklearn.metrics import classification_report\n",
    "from sklearn.metrics import confusion_matrix\n",
    "from sklearn import metrics\n",
    "import matplotlib.pyplot as plt\n",
    "from imblearn.under_sampling import RandomUnderSampler"
   ]
  },
  {
   "cell_type": "code",
   "execution_count": 53,
   "metadata": {},
   "outputs": [],
   "source": [
    "filePath = \"bank-additional\\\\bank-additional\\\\bank-additional-full.csv\"\n",
    "data = pd.read_csv(filePath, sep=\";\")"
   ]
  },
  {
   "cell_type": "markdown",
   "metadata": {},
   "source": [
    "## Preprocessing"
   ]
  },
  {
   "cell_type": "markdown",
   "metadata": {},
   "source": [
    "### Encoding categorical variables\n",
    "Transforming non-numeric labels into numeric labels."
   ]
  },
  {
   "cell_type": "code",
   "execution_count": 54,
   "metadata": {},
   "outputs": [],
   "source": [
    "categorical_label_encoder = LabelEncoder()\n",
    "\n",
    "for variable in data.select_dtypes(include=[\"object\"]).columns:\n",
    "    data[variable] = categorical_label_encoder.fit_transform(data[variable])"
   ]
  },
  {
   "cell_type": "markdown",
   "metadata": {},
   "source": [
    "### Seperating features and target\n",
    "Seperating/Dropping the target variable (AKA the output variable) from the features (input variables). This is done because the model the target variable itself isn't used to train the model, instead the features are to train the model in order to predict the target variable; therefore, to prevent the model from learning incorrect patterns and because the model is evaluated on the target variable, it is necessary to drop the target variable."
   ]
  },
  {
   "cell_type": "code",
   "execution_count": 55,
   "metadata": {},
   "outputs": [],
   "source": [
    "features = data.drop(\"y\", axis=1)\n",
    "target = data[\"y\"]"
   ]
  },
  {
   "cell_type": "markdown",
   "metadata": {},
   "source": [
    "### Standardization\n",
    "The aim of Standardization is to increase data quality through eliminating errors, inconsistencies and redundant data. Through having a higher quality dataset, the model will be able to learn patterns from more verbose data leading to better predictions."
   ]
  },
  {
   "cell_type": "code",
   "execution_count": 56,
   "metadata": {},
   "outputs": [],
   "source": [
    "standard_scaler = StandardScaler()\n",
    "scaled_features = standard_scaler.fit_transform(features)"
   ]
  },
  {
   "cell_type": "markdown",
   "metadata": {},
   "source": [
    "### Train Test Split\n",
    "A dataset is split into two parts, the training dataset and the testing dataset. This done so a model can be tested/evaluated after training it, without testing the model, it won't be possbile to find out whether a it is underfitted or overfitted (Bias-Variance Tradeoff)."
   ]
  },
  {
   "cell_type": "code",
   "execution_count": 57,
   "metadata": {},
   "outputs": [],
   "source": [
    "X_train, X_test, y_train, y_test = train_test_split(scaled_features, target, train_size=0.8, test_size=0.2, random_state=42)"
   ]
  },
  {
   "cell_type": "markdown",
   "metadata": {},
   "source": [
    "## Creating the Neural Network Model\n",
    "\n",
    "This model will be using a Multilayer Perceptron with an input layer, a hidden layer and an output layer. "
   ]
  },
  {
   "cell_type": "code",
   "execution_count": 58,
   "metadata": {},
   "outputs": [
    {
     "data": {
      "text/plain": [
       "20"
      ]
     },
     "execution_count": 58,
     "metadata": {},
     "output_type": "execute_result"
    }
   ],
   "source": [
    "number_of_features = features.shape[1]\n",
    "number_of_features"
   ]
  },
  {
   "cell_type": "markdown",
   "metadata": {},
   "source": [
    "### Deciding the Number of Neurons"
   ]
  },
  {
   "cell_type": "markdown",
   "metadata": {},
   "source": [
    "#### Deciding the Number of Neurons in the Input Layer and the Output Layer\n",
    "Since there are 20 inputs, there will be 20 neurons in the input layer. Since an instance can only be classified into one of two types, this model is using **Binary Classification**, therefore it will be using one neuron for the output."
   ]
  },
  {
   "cell_type": "markdown",
   "metadata": {},
   "source": [
    "#### Deciding the Number of Neurons in the Hidden Layer/Layers\n",
    "However, deciding the number of Neurons in the hidden layers, or in this case, the hidden layer is not as straightforward as the other layers. The complexity of the dataset (dimensionality, sample size, noise, distribution, etc) and whether the model is underfit or overfit has an effect on how many neurons should be in the hidden layer.\n",
    "\n",
    "According to [The Number of Hidden Layers](https://www.heatonresearch.com/2017/06/01/hidden-layers.html), there are a few rules of thumb for determining the number of neurons in a hidden layer (Additionally, this article discusses about Deep Learning and why multiple hidden layers are used despite the Universal Approximation Theorem proving that a single hidden layer neural network can learn anything). \n",
    "\n",
    "1. The average of the sum of the number of Input and Output Neurons.\n",
    "2. Sum of 2/3rds of the number of Input Neurons and the number of Output Neurons.\n",
    "3. Less than two times the number of Input Neurons\n",
    "\n",
    "The first heuristic tends to give a smaller number of hidden neurons, since there are benefits to a smaller networks such as a faster training time and being less prone to overfitting, therefore we will be deciding hte number of hidden neurons by getting the average of the sum of of the number of Input and Output Neurons."
   ]
  },
  {
   "cell_type": "code",
   "execution_count": 59,
   "metadata": {},
   "outputs": [
    {
     "data": {
      "text/plain": [
       "11"
      ]
     },
     "execution_count": 59,
     "metadata": {},
     "output_type": "execute_result"
    }
   ],
   "source": [
    "number_of_input_neurons = number_of_features\n",
    "number_of_output_neurons = 1\n",
    "number_of_hidden_neurons = math.ceil((number_of_input_neurons + number_of_output_neurons) / 2)\n",
    "number_of_hidden_neurons"
   ]
  },
  {
   "cell_type": "markdown",
   "metadata": {},
   "source": [
    "### Deciding the Activation Function\n",
    "For the activation function, ReLU will be due to the fact that it is simple and efficient, it is also the standard activation function that is used for classification tasks, with other functions such as sigmoid or Tanh being used for situations where ReLU isn't optimal."
   ]
  },
  {
   "cell_type": "markdown",
   "metadata": {},
   "source": [
    "### Coding the Model"
   ]
  },
  {
   "cell_type": "code",
   "execution_count": 60,
   "metadata": {},
   "outputs": [
    {
     "name": "stderr",
     "output_type": "stream",
     "text": [
      "c:\\Users\\Mail2\\AppData\\Local\\Programs\\Python\\Python311\\Lib\\site-packages\\keras\\src\\layers\\core\\dense.py:87: UserWarning: Do not pass an `input_shape`/`input_dim` argument to a layer. When using Sequential models, prefer using an `Input(shape)` object as the first layer in the model instead.\n",
      "  super().__init__(activity_regularizer=activity_regularizer, **kwargs)\n"
     ]
    }
   ],
   "source": [
    "input_layer = Dense(number_of_input_neurons, input_shape=(number_of_features,))\n",
    "hidden_layer = Dense(number_of_hidden_neurons, activation=\"relu\")\n",
    "output_layer = Dense(number_of_output_neurons)\n",
    "\n",
    "neural_network_model = Sequential([input_layer, hidden_layer, output_layer])"
   ]
  },
  {
   "cell_type": "markdown",
   "metadata": {},
   "source": [
    "### Compiling"
   ]
  },
  {
   "cell_type": "markdown",
   "metadata": {},
   "source": [
    "#### Optimizer\n",
    "An Optimizer modifies the weights during training to reduce the difference between predicted values and actual values, also known as **'Loss'**. There are many optimizers such as Gradient Descent, Stochastic Gradient Descent, RMSprop, Adam, etc. Optimizers are divided into two groups according to how the **learning rate** is modified. If you have to manually tune the learning rate, it is a **Gradient Descent Algorithm** and if it can automatically adapt, it is a **Adaptive Algorithm**. This model will be using an Adaptive Optimizer called **'Adam'** due to its ease of use."
   ]
  },
  {
   "cell_type": "markdown",
   "metadata": {},
   "source": [
    "#### Loss Function\n",
    "A Loss Function is used to measure how well a model can predict values, this is done by taking the difference between a predicted value and its corresponding actual value, the difference between these two are called **'Loss'**. This model will be using **Binary Cross Entropy** also known as **Logarithmic Loss** or **Log Loss**, this loss function is being used because it makes the model more likely to have output values close to 0 or 1 and because it is standard for binary classification.\n",
    "\n",
    "The aforementioned Optimizer uses the loss from a loss function to modify the weights during training."
   ]
  },
  {
   "cell_type": "code",
   "execution_count": 61,
   "metadata": {},
   "outputs": [],
   "source": [
    "neural_network_model.compile(optimizer=\"adam\", loss=\"binary_crossentropy\", metrics=[\"accuracy\"])"
   ]
  },
  {
   "cell_type": "markdown",
   "metadata": {},
   "source": [
    "## Training The Neural Network Model\n",
    "### Batch Size\n",
    "The Batch Size is a hyperparameter that defines the **number of samples/datapoints** to work through before updating the model's internal parameters as weights, biases, etc.\n",
    "\n",
    "Batches are used because updating the parameters on the entire training dataset is computationally expensive (unless the dataset is small) and because it leads to a shorter training time. However having a large batch size might mean that the model is less accurate and prone to overfitting.\n",
    "\n",
    "### Number of Epochs\n",
    "The Number of Epochs is a hyperparameter that defines the **number of training iterations** for the model.\n",
    "\n",
    "As the model goes through each epoch, its parameters are updated and patterns in the dataset are learned. It is important to have a balanced amount of epochs as too few leads to underfitting and the inability of the model to extract patterns from the dataset and on the other hand, having too many epochs leads to the model being overfit, which leads to poor predictions on new data.\n"
   ]
  },
  {
   "cell_type": "code",
   "execution_count": 62,
   "metadata": {},
   "outputs": [
    {
     "name": "stdout",
     "output_type": "stream",
     "text": [
      "Epoch 1/32\n",
      "\u001b[1m824/824\u001b[0m \u001b[32m━━━━━━━━━━━━━━━━━━━━\u001b[0m\u001b[37m\u001b[0m \u001b[1m5s\u001b[0m 3ms/step - accuracy: 0.8655 - loss: 1.0701 - val_accuracy: 0.8917 - val_loss: 0.9216\n",
      "Epoch 2/32\n",
      "\u001b[1m824/824\u001b[0m \u001b[32m━━━━━━━━━━━━━━━━━━━━\u001b[0m\u001b[37m\u001b[0m \u001b[1m3s\u001b[0m 3ms/step - accuracy: 0.8895 - loss: 0.8259 - val_accuracy: 0.8680 - val_loss: 0.8413\n",
      "Epoch 3/32\n",
      "\u001b[1m824/824\u001b[0m \u001b[32m━━━━━━━━━━━━━━━━━━━━\u001b[0m\u001b[37m\u001b[0m \u001b[1m2s\u001b[0m 3ms/step - accuracy: 0.8753 - loss: 0.6851 - val_accuracy: 0.8883 - val_loss: 0.5368\n",
      "Epoch 4/32\n",
      "\u001b[1m824/824\u001b[0m \u001b[32m━━━━━━━━━━━━━━━━━━━━\u001b[0m\u001b[37m\u001b[0m \u001b[1m2s\u001b[0m 2ms/step - accuracy: 0.8898 - loss: 0.5169 - val_accuracy: 0.8944 - val_loss: 0.4461\n",
      "Epoch 5/32\n",
      "\u001b[1m824/824\u001b[0m \u001b[32m━━━━━━━━━━━━━━━━━━━━\u001b[0m\u001b[37m\u001b[0m \u001b[1m2s\u001b[0m 2ms/step - accuracy: 0.8958 - loss: 0.4777 - val_accuracy: 0.8992 - val_loss: 0.3863\n",
      "Epoch 6/32\n",
      "\u001b[1m824/824\u001b[0m \u001b[32m━━━━━━━━━━━━━━━━━━━━\u001b[0m\u001b[37m\u001b[0m \u001b[1m2s\u001b[0m 2ms/step - accuracy: 0.9032 - loss: 0.3467 - val_accuracy: 0.9030 - val_loss: 0.3451\n",
      "Epoch 7/32\n",
      "\u001b[1m824/824\u001b[0m \u001b[32m━━━━━━━━━━━━━━━━━━━━\u001b[0m\u001b[37m\u001b[0m \u001b[1m2s\u001b[0m 2ms/step - accuracy: 0.8971 - loss: 0.3466 - val_accuracy: 0.8131 - val_loss: 0.6301\n",
      "Epoch 8/32\n",
      "\u001b[1m824/824\u001b[0m \u001b[32m━━━━━━━━━━━━━━━━━━━━\u001b[0m\u001b[37m\u001b[0m \u001b[1m2s\u001b[0m 2ms/step - accuracy: 0.8538 - loss: 0.4229 - val_accuracy: 0.8961 - val_loss: 0.3136\n",
      "Epoch 9/32\n",
      "\u001b[1m824/824\u001b[0m \u001b[32m━━━━━━━━━━━━━━━━━━━━\u001b[0m\u001b[37m\u001b[0m \u001b[1m2s\u001b[0m 2ms/step - accuracy: 0.9001 - loss: 0.3045 - val_accuracy: 0.8463 - val_loss: 0.4296\n",
      "Epoch 10/32\n",
      "\u001b[1m824/824\u001b[0m \u001b[32m━━━━━━━━━━━━━━━━━━━━\u001b[0m\u001b[37m\u001b[0m \u001b[1m2s\u001b[0m 2ms/step - accuracy: 0.8751 - loss: 0.3474 - val_accuracy: 0.8968 - val_loss: 0.3339\n",
      "Epoch 11/32\n",
      "\u001b[1m824/824\u001b[0m \u001b[32m━━━━━━━━━━━━━━━━━━━━\u001b[0m\u001b[37m\u001b[0m \u001b[1m2s\u001b[0m 2ms/step - accuracy: 0.8442 - loss: 0.3897 - val_accuracy: 0.8296 - val_loss: 0.3383\n",
      "Epoch 12/32\n",
      "\u001b[1m824/824\u001b[0m \u001b[32m━━━━━━━━━━━━━━━━━━━━\u001b[0m\u001b[37m\u001b[0m \u001b[1m2s\u001b[0m 2ms/step - accuracy: 0.8588 - loss: 0.2978 - val_accuracy: 0.9029 - val_loss: 0.2837\n",
      "Epoch 13/32\n",
      "\u001b[1m824/824\u001b[0m \u001b[32m━━━━━━━━━━━━━━━━━━━━\u001b[0m\u001b[37m\u001b[0m \u001b[1m2s\u001b[0m 2ms/step - accuracy: 0.9044 - loss: 0.2597 - val_accuracy: 0.9029 - val_loss: 0.2645\n",
      "Epoch 14/32\n",
      "\u001b[1m824/824\u001b[0m \u001b[32m━━━━━━━━━━━━━━━━━━━━\u001b[0m\u001b[37m\u001b[0m \u001b[1m2s\u001b[0m 2ms/step - accuracy: 0.9014 - loss: 0.2524 - val_accuracy: 0.8950 - val_loss: 0.2659\n",
      "Epoch 15/32\n",
      "\u001b[1m824/824\u001b[0m \u001b[32m━━━━━━━━━━━━━━━━━━━━\u001b[0m\u001b[37m\u001b[0m \u001b[1m2s\u001b[0m 2ms/step - accuracy: 0.9001 - loss: 0.2458 - val_accuracy: 0.9024 - val_loss: 0.2627\n",
      "Epoch 16/32\n",
      "\u001b[1m824/824\u001b[0m \u001b[32m━━━━━━━━━━━━━━━━━━━━\u001b[0m\u001b[37m\u001b[0m \u001b[1m2s\u001b[0m 3ms/step - accuracy: 0.9071 - loss: 0.2466 - val_accuracy: 0.9065 - val_loss: 0.2525\n",
      "Epoch 17/32\n",
      "\u001b[1m824/824\u001b[0m \u001b[32m━━━━━━━━━━━━━━━━━━━━\u001b[0m\u001b[37m\u001b[0m \u001b[1m2s\u001b[0m 3ms/step - accuracy: 0.9062 - loss: 0.2209 - val_accuracy: 0.9065 - val_loss: 0.2464\n",
      "Epoch 18/32\n",
      "\u001b[1m824/824\u001b[0m \u001b[32m━━━━━━━━━━━━━━━━━━━━\u001b[0m\u001b[37m\u001b[0m \u001b[1m2s\u001b[0m 2ms/step - accuracy: 0.9075 - loss: 0.2259 - val_accuracy: 0.9049 - val_loss: 0.2325\n",
      "Epoch 19/32\n",
      "\u001b[1m824/824\u001b[0m \u001b[32m━━━━━━━━━━━━━━━━━━━━\u001b[0m\u001b[37m\u001b[0m \u001b[1m2s\u001b[0m 3ms/step - accuracy: 0.8911 - loss: 0.3243 - val_accuracy: 0.8785 - val_loss: 0.3002\n",
      "Epoch 20/32\n",
      "\u001b[1m824/824\u001b[0m \u001b[32m━━━━━━━━━━━━━━━━━━━━\u001b[0m\u001b[37m\u001b[0m \u001b[1m5s\u001b[0m 6ms/step - accuracy: 0.8859 - loss: 0.2842 - val_accuracy: 0.8988 - val_loss: 0.2668\n",
      "Epoch 21/32\n",
      "\u001b[1m824/824\u001b[0m \u001b[32m━━━━━━━━━━━━━━━━━━━━\u001b[0m\u001b[37m\u001b[0m \u001b[1m6s\u001b[0m 7ms/step - accuracy: 0.9041 - loss: 0.2471 - val_accuracy: 0.9011 - val_loss: 0.2501\n",
      "Epoch 22/32\n",
      "\u001b[1m824/824\u001b[0m \u001b[32m━━━━━━━━━━━━━━━━━━━━\u001b[0m\u001b[37m\u001b[0m \u001b[1m7s\u001b[0m 3ms/step - accuracy: 0.9089 - loss: 0.2341 - val_accuracy: 0.9042 - val_loss: 0.2410\n",
      "Epoch 23/32\n",
      "\u001b[1m824/824\u001b[0m \u001b[32m━━━━━━━━━━━━━━━━━━━━\u001b[0m\u001b[37m\u001b[0m \u001b[1m2s\u001b[0m 3ms/step - accuracy: 0.9060 - loss: 0.2450 - val_accuracy: 0.9056 - val_loss: 0.2424\n",
      "Epoch 24/32\n",
      "\u001b[1m824/824\u001b[0m \u001b[32m━━━━━━━━━━━━━━━━━━━━\u001b[0m\u001b[37m\u001b[0m \u001b[1m2s\u001b[0m 3ms/step - accuracy: 0.9075 - loss: 0.2290 - val_accuracy: 0.9056 - val_loss: 0.2353\n",
      "Epoch 25/32\n",
      "\u001b[1m824/824\u001b[0m \u001b[32m━━━━━━━━━━━━━━━━━━━━\u001b[0m\u001b[37m\u001b[0m \u001b[1m2s\u001b[0m 3ms/step - accuracy: 0.9091 - loss: 0.2453 - val_accuracy: 0.9093 - val_loss: 0.2304\n",
      "Epoch 26/32\n",
      "\u001b[1m824/824\u001b[0m \u001b[32m━━━━━━━━━━━━━━━━━━━━\u001b[0m\u001b[37m\u001b[0m \u001b[1m2s\u001b[0m 3ms/step - accuracy: 0.9095 - loss: 0.2165 - val_accuracy: 0.8997 - val_loss: 0.2434\n",
      "Epoch 27/32\n",
      "\u001b[1m824/824\u001b[0m \u001b[32m━━━━━━━━━━━━━━━━━━━━\u001b[0m\u001b[37m\u001b[0m \u001b[1m2s\u001b[0m 2ms/step - accuracy: 0.9066 - loss: 0.2273 - val_accuracy: 0.9099 - val_loss: 0.2265\n",
      "Epoch 28/32\n",
      "\u001b[1m824/824\u001b[0m \u001b[32m━━━━━━━━━━━━━━━━━━━━\u001b[0m\u001b[37m\u001b[0m \u001b[1m2s\u001b[0m 3ms/step - accuracy: 0.9013 - loss: 0.2955 - val_accuracy: 0.9024 - val_loss: 0.2333\n",
      "Epoch 29/32\n",
      "\u001b[1m824/824\u001b[0m \u001b[32m━━━━━━━━━━━━━━━━━━━━\u001b[0m\u001b[37m\u001b[0m \u001b[1m2s\u001b[0m 3ms/step - accuracy: 0.9045 - loss: 0.2246 - val_accuracy: 0.9077 - val_loss: 0.2268\n",
      "Epoch 30/32\n",
      "\u001b[1m824/824\u001b[0m \u001b[32m━━━━━━━━━━━━━━━━━━━━\u001b[0m\u001b[37m\u001b[0m \u001b[1m3s\u001b[0m 3ms/step - accuracy: 0.9046 - loss: 0.2360 - val_accuracy: 0.9030 - val_loss: 0.2480\n",
      "Epoch 31/32\n",
      "\u001b[1m824/824\u001b[0m \u001b[32m━━━━━━━━━━━━━━━━━━━━\u001b[0m\u001b[37m\u001b[0m \u001b[1m2s\u001b[0m 2ms/step - accuracy: 0.8964 - loss: 0.4769 - val_accuracy: 0.8910 - val_loss: 0.2990\n",
      "Epoch 32/32\n",
      "\u001b[1m824/824\u001b[0m \u001b[32m━━━━━━━━━━━━━━━━━━━━\u001b[0m\u001b[37m\u001b[0m \u001b[1m2s\u001b[0m 2ms/step - accuracy: 0.8906 - loss: 0.2855 - val_accuracy: 0.8989 - val_loss: 0.2822\n"
     ]
    }
   ],
   "source": [
    "trained_neural_network = neural_network_model.fit(X_train, y_train, batch_size=32, epochs=32, validation_split=0.2, verbose=1)"
   ]
  },
  {
   "cell_type": "markdown",
   "metadata": {},
   "source": [
    "## Testing"
   ]
  },
  {
   "cell_type": "code",
   "execution_count": 63,
   "metadata": {},
   "outputs": [
    {
     "name": "stdout",
     "output_type": "stream",
     "text": [
      "\u001b[1m258/258\u001b[0m \u001b[32m━━━━━━━━━━━━━━━━━━━━\u001b[0m\u001b[37m\u001b[0m \u001b[1m0s\u001b[0m 1ms/step\n"
     ]
    }
   ],
   "source": [
    "predictions = (neural_network_model.predict(X_test) > 0.5).astype(\"int32\")"
   ]
  },
  {
   "cell_type": "markdown",
   "metadata": {},
   "source": [
    "### Accuracy Score"
   ]
  },
  {
   "cell_type": "code",
   "execution_count": 64,
   "metadata": {},
   "outputs": [
    {
     "name": "stdout",
     "output_type": "stream",
     "text": [
      "0.8963340616654528\n"
     ]
    }
   ],
   "source": [
    "\n",
    "model_accuracy_score = accuracy_score(y_test, predictions)\n",
    "print(model_accuracy_score)"
   ]
  },
  {
   "cell_type": "markdown",
   "metadata": {},
   "source": [
    "### Confusion Matrix\n",
    "From the Confusion Matrix, it can be observed that the model fails in predicting positive values AKA the potential customer subscribing, this is due to a large class imbalance in the dataset causing the model to favour the majority class of 'no' over the minority class of 'yes'."
   ]
  },
  {
   "cell_type": "code",
   "execution_count": 65,
   "metadata": {},
   "outputs": [
    {
     "name": "stdout",
     "output_type": "stream",
     "text": [
      "[[7179  124]\n",
      " [ 730  205]]\n"
     ]
    },
    {
     "data": {
      "image/png": "[encoded data removed]",
      "text/plain": [
       "<Figure size 640x480 with 2 Axes>"
      ]
     },
     "metadata": {},
     "output_type": "display_data"
    }
   ],
   "source": [
    "model_confusion_matrix = confusion_matrix(y_test, predictions)\n",
    "print(model_confusion_matrix)\n",
    "confusion_matrix_display = metrics.ConfusionMatrixDisplay(confusion_matrix=model_confusion_matrix)\n",
    "confusion_matrix_display.plot()\n",
    "plt.show()"
   ]
  },
  {
   "cell_type": "markdown",
   "metadata": {},
   "source": [
    "### Classification Report\n",
    "Although the model performs well on the majority class, as seen by the low precision, recall and other metrics; it can be concluded that the model fails in predicting whether a potential customer will subscribe. \n",
    "\n",
    "This failure can be attirbuted to the dataset as a whole and therefore the training dataset too, having significantly more samples with a class of 'no' (coded as '0') as opposed to samples of class 'yes' (coded as '1')"
   ]
  },
  {
   "cell_type": "code",
   "execution_count": 66,
   "metadata": {},
   "outputs": [
    {
     "name": "stdout",
     "output_type": "stream",
     "text": [
      "              precision    recall  f1-score   support\n",
      "\n",
      "           0       0.91      0.98      0.94      7303\n",
      "           1       0.62      0.22      0.32       935\n",
      "\n",
      "    accuracy                           0.90      8238\n",
      "   macro avg       0.77      0.60      0.63      8238\n",
      "weighted avg       0.88      0.90      0.87      8238\n",
      "\n"
     ]
    }
   ],
   "source": [
    "\n",
    "model_classification_report = classification_report(y_test, predictions)\n",
    "print(model_classification_report)"
   ]
  },
  {
   "cell_type": "markdown",
   "metadata": {},
   "source": [
    "## How To Handle Imbalanced Data?\n",
    "There are multiple techniques to handle Imbalanced data such as Ensemble models, resampling with a different ratio, etc however experiments will be run on this model by resampling the training set. There are two methods of resampling **Under-Sampling** and **Over-Sampling**."
   ]
  },
  {
   "cell_type": "markdown",
   "metadata": {},
   "source": [
    "### Under-Sampling\n",
    "In Under-Sampling, the class imbalance is solved through reducing the number of samples in the majority class to match the minority class. This is typically done on very large datasets as the reduction in the number of data samples causes a decrease in performance from the loss of information, this is known as **Underfitting**."
   ]
  },
  {
   "cell_type": "code",
   "execution_count": 67,
   "metadata": {},
   "outputs": [
    {
     "name": "stdout",
     "output_type": "stream",
     "text": [
      "Epoch 1/32\n",
      "\u001b[1m186/186\u001b[0m \u001b[32m━━━━━━━━━━━━━━━━━━━━\u001b[0m\u001b[37m\u001b[0m \u001b[1m1s\u001b[0m 6ms/step - accuracy: 0.7527 - loss: 0.5863 - val_accuracy: 0.6430 - val_loss: 0.7290\n",
      "Epoch 2/32\n",
      "\u001b[1m186/186\u001b[0m \u001b[32m━━━━━━━━━━━━━━━━━━━━\u001b[0m\u001b[37m\u001b[0m \u001b[1m1s\u001b[0m 3ms/step - accuracy: 0.8069 - loss: 0.4504 - val_accuracy: 0.7078 - val_loss: 0.6483\n",
      "Epoch 3/32\n",
      "\u001b[1m186/186\u001b[0m \u001b[32m━━━━━━━━━━━━━━━━━━━━\u001b[0m\u001b[37m\u001b[0m \u001b[1m1s\u001b[0m 4ms/step - accuracy: 0.8185 - loss: 0.4283 - val_accuracy: 0.7085 - val_loss: 0.6578\n",
      "Epoch 4/32\n",
      "\u001b[1m186/186\u001b[0m \u001b[32m━━━━━━━━━━━━━━━━━━━━\u001b[0m\u001b[37m\u001b[0m \u001b[1m1s\u001b[0m 3ms/step - accuracy: 0.8335 - loss: 0.3808 - val_accuracy: 0.6761 - val_loss: 0.7106\n",
      "Epoch 5/32\n",
      "\u001b[1m186/186\u001b[0m \u001b[32m━━━━━━━━━━━━━━━━━━━━\u001b[0m\u001b[37m\u001b[0m \u001b[1m1s\u001b[0m 4ms/step - accuracy: 0.8141 - loss: 0.4146 - val_accuracy: 0.7112 - val_loss: 0.6180\n",
      "Epoch 6/32\n",
      "\u001b[1m186/186\u001b[0m \u001b[32m━━━━━━━━━━━━━━━━━━━━\u001b[0m\u001b[37m\u001b[0m \u001b[1m1s\u001b[0m 3ms/step - accuracy: 0.8335 - loss: 0.4334 - val_accuracy: 0.7213 - val_loss: 0.6056\n",
      "Epoch 7/32\n",
      "\u001b[1m186/186\u001b[0m \u001b[32m━━━━━━━━━━━━━━━━━━━━\u001b[0m\u001b[37m\u001b[0m \u001b[1m1s\u001b[0m 3ms/step - accuracy: 0.8427 - loss: 0.4139 - val_accuracy: 0.7503 - val_loss: 0.5666\n",
      "Epoch 8/32\n",
      "\u001b[1m186/186\u001b[0m \u001b[32m━━━━━━━━━━━━━━━━━━━━\u001b[0m\u001b[37m\u001b[0m \u001b[1m1s\u001b[0m 3ms/step - accuracy: 0.8468 - loss: 0.3860 - val_accuracy: 0.7227 - val_loss: 0.6147\n",
      "Epoch 9/32\n",
      "\u001b[1m186/186\u001b[0m \u001b[32m━━━━━━━━━━━━━━━━━━━━\u001b[0m\u001b[37m\u001b[0m \u001b[1m1s\u001b[0m 3ms/step - accuracy: 0.8391 - loss: 0.4407 - val_accuracy: 0.8178 - val_loss: 0.5096\n",
      "Epoch 10/32\n",
      "\u001b[1m186/186\u001b[0m \u001b[32m━━━━━━━━━━━━━━━━━━━━\u001b[0m\u001b[37m\u001b[0m \u001b[1m1s\u001b[0m 4ms/step - accuracy: 0.8410 - loss: 0.4260 - val_accuracy: 0.7834 - val_loss: 0.5177\n",
      "Epoch 11/32\n",
      "\u001b[1m186/186\u001b[0m \u001b[32m━━━━━━━━━━━━━━━━━━━━\u001b[0m\u001b[37m\u001b[0m \u001b[1m1s\u001b[0m 4ms/step - accuracy: 0.8196 - loss: 0.4139 - val_accuracy: 0.7517 - val_loss: 0.5609\n",
      "Epoch 12/32\n",
      "\u001b[1m186/186\u001b[0m \u001b[32m━━━━━━━━━━━━━━━━━━━━\u001b[0m\u001b[37m\u001b[0m \u001b[1m1s\u001b[0m 6ms/step - accuracy: 0.8465 - loss: 0.3825 - val_accuracy: 0.7726 - val_loss: 0.5254\n",
      "Epoch 13/32\n",
      "\u001b[1m186/186\u001b[0m \u001b[32m━━━━━━━━━━━━━━━━━━━━\u001b[0m\u001b[37m\u001b[0m \u001b[1m1s\u001b[0m 3ms/step - accuracy: 0.8521 - loss: 0.3792 - val_accuracy: 0.7881 - val_loss: 0.5324\n",
      "Epoch 14/32\n",
      "\u001b[1m186/186\u001b[0m \u001b[32m━━━━━━━━━━━━━━━━━━━━\u001b[0m\u001b[37m\u001b[0m \u001b[1m1s\u001b[0m 3ms/step - accuracy: 0.8524 - loss: 0.3568 - val_accuracy: 0.7665 - val_loss: 0.5409\n",
      "Epoch 15/32\n",
      "\u001b[1m186/186\u001b[0m \u001b[32m━━━━━━━━━━━━━━━━━━━━\u001b[0m\u001b[37m\u001b[0m \u001b[1m1s\u001b[0m 3ms/step - accuracy: 0.8395 - loss: 0.3881 - val_accuracy: 0.7557 - val_loss: 0.5788\n",
      "Epoch 16/32\n",
      "\u001b[1m186/186\u001b[0m \u001b[32m━━━━━━━━━━━━━━━━━━━━\u001b[0m\u001b[37m\u001b[0m \u001b[1m1s\u001b[0m 3ms/step - accuracy: 0.8465 - loss: 0.3546 - val_accuracy: 0.7848 - val_loss: 0.5309\n",
      "Epoch 17/32\n",
      "\u001b[1m186/186\u001b[0m \u001b[32m━━━━━━━━━━━━━━━━━━━━\u001b[0m\u001b[37m\u001b[0m \u001b[1m1s\u001b[0m 3ms/step - accuracy: 0.8439 - loss: 0.3677 - val_accuracy: 0.7591 - val_loss: 0.5528\n",
      "Epoch 18/32\n",
      "\u001b[1m186/186\u001b[0m \u001b[32m━━━━━━━━━━━━━━━━━━━━\u001b[0m\u001b[37m\u001b[0m \u001b[1m1s\u001b[0m 3ms/step - accuracy: 0.8496 - loss: 0.3838 - val_accuracy: 0.7901 - val_loss: 0.5145\n",
      "Epoch 19/32\n",
      "\u001b[1m186/186\u001b[0m \u001b[32m━━━━━━━━━━━━━━━━━━━━\u001b[0m\u001b[37m\u001b[0m \u001b[1m1s\u001b[0m 3ms/step - accuracy: 0.8554 - loss: 0.3740 - val_accuracy: 0.6849 - val_loss: 0.6416\n",
      "Epoch 20/32\n",
      "\u001b[1m186/186\u001b[0m \u001b[32m━━━━━━━━━━━━━━━━━━━━\u001b[0m\u001b[37m\u001b[0m \u001b[1m1s\u001b[0m 3ms/step - accuracy: 0.8299 - loss: 0.3923 - val_accuracy: 0.6802 - val_loss: 0.7405\n",
      "Epoch 21/32\n",
      "\u001b[1m186/186\u001b[0m \u001b[32m━━━━━━━━━━━━━━━━━━━━\u001b[0m\u001b[37m\u001b[0m \u001b[1m1s\u001b[0m 3ms/step - accuracy: 0.8366 - loss: 0.3679 - val_accuracy: 0.7746 - val_loss: 0.5694\n",
      "Epoch 22/32\n",
      "\u001b[1m186/186\u001b[0m \u001b[32m━━━━━━━━━━━━━━━━━━━━\u001b[0m\u001b[37m\u001b[0m \u001b[1m1s\u001b[0m 3ms/step - accuracy: 0.8490 - loss: 0.3566 - val_accuracy: 0.7045 - val_loss: 0.6619\n",
      "Epoch 23/32\n",
      "\u001b[1m186/186\u001b[0m \u001b[32m━━━━━━━━━━━━━━━━━━━━\u001b[0m\u001b[37m\u001b[0m \u001b[1m1s\u001b[0m 4ms/step - accuracy: 0.8438 - loss: 0.3927 - val_accuracy: 0.7780 - val_loss: 0.5680\n",
      "Epoch 24/32\n",
      "\u001b[1m186/186\u001b[0m \u001b[32m━━━━━━━━━━━━━━━━━━━━\u001b[0m\u001b[37m\u001b[0m \u001b[1m1s\u001b[0m 4ms/step - accuracy: 0.8513 - loss: 0.3955 - val_accuracy: 0.7942 - val_loss: 0.5375\n",
      "Epoch 25/32\n",
      "\u001b[1m186/186\u001b[0m \u001b[32m━━━━━━━━━━━━━━━━━━━━\u001b[0m\u001b[37m\u001b[0m \u001b[1m1s\u001b[0m 3ms/step - accuracy: 0.8320 - loss: 0.6186 - val_accuracy: 0.8806 - val_loss: 0.3857\n",
      "Epoch 26/32\n",
      "\u001b[1m186/186\u001b[0m \u001b[32m━━━━━━━━━━━━━━━━━━━━\u001b[0m\u001b[37m\u001b[0m \u001b[1m1s\u001b[0m 4ms/step - accuracy: 0.8117 - loss: 0.6081 - val_accuracy: 0.8259 - val_loss: 0.4962\n",
      "Epoch 27/32\n",
      "\u001b[1m186/186\u001b[0m \u001b[32m━━━━━━━━━━━━━━━━━━━━\u001b[0m\u001b[37m\u001b[0m \u001b[1m1s\u001b[0m 4ms/step - accuracy: 0.7990 - loss: 0.5138 - val_accuracy: 0.2969 - val_loss: 1.3195\n",
      "Epoch 28/32\n",
      "\u001b[1m186/186\u001b[0m \u001b[32m━━━━━━━━━━━━━━━━━━━━\u001b[0m\u001b[37m\u001b[0m \u001b[1m1s\u001b[0m 3ms/step - accuracy: 0.6823 - loss: 0.5625 - val_accuracy: 0.3738 - val_loss: 0.9497\n",
      "Epoch 29/32\n",
      "\u001b[1m186/186\u001b[0m \u001b[32m━━━━━━━━━━━━━━━━━━━━\u001b[0m\u001b[37m\u001b[0m \u001b[1m1s\u001b[0m 3ms/step - accuracy: 0.7303 - loss: 0.4539 - val_accuracy: 0.5452 - val_loss: 0.7714\n",
      "Epoch 30/32\n",
      "\u001b[1m186/186\u001b[0m \u001b[32m━━━━━━━━━━━━━━━━━━━━\u001b[0m\u001b[37m\u001b[0m \u001b[1m1s\u001b[0m 4ms/step - accuracy: 0.7744 - loss: 0.4040 - val_accuracy: 0.6417 - val_loss: 0.6720\n",
      "Epoch 31/32\n",
      "\u001b[1m186/186\u001b[0m \u001b[32m━━━━━━━━━━━━━━━━━━━━\u001b[0m\u001b[37m\u001b[0m \u001b[1m1s\u001b[0m 4ms/step - accuracy: 0.8015 - loss: 0.3974 - val_accuracy: 0.7004 - val_loss: 0.6149\n",
      "Epoch 32/32\n",
      "\u001b[1m186/186\u001b[0m \u001b[32m━━━━━━━━━━━━━━━━━━━━\u001b[0m\u001b[37m\u001b[0m \u001b[1m1s\u001b[0m 4ms/step - accuracy: 0.8196 - loss: 0.3805 - val_accuracy: 0.7240 - val_loss: 0.5979\n",
      "\u001b[1m258/258\u001b[0m \u001b[32m━━━━━━━━━━━━━━━━━━━━\u001b[0m\u001b[37m\u001b[0m \u001b[1m0s\u001b[0m 1ms/step\n"
     ]
    }
   ],
   "source": [
    "random_under_sampler = RandomUnderSampler(random_state=42)\n",
    "undersampled_X_train, undersampled_y_train = random_under_sampler.fit_resample(X_train, y_train)\n",
    "\n",
    "trained_undersampled_neural_network = neural_network_model.fit(undersampled_X_train, undersampled_y_train, batch_size=32, epochs=32, validation_split=0.2, verbose=1)\n",
    "\n",
    "undersampled_predictions = (neural_network_model.predict(X_test) > 0.5).astype(\"int32\")"
   ]
  },
  {
   "cell_type": "markdown",
   "metadata": {},
   "source": [
    "#### Accuracy Score"
   ]
  },
  {
   "cell_type": "code",
   "execution_count": 68,
   "metadata": {},
   "outputs": [
    {
     "name": "stdout",
     "output_type": "stream",
     "text": [
      "0.8466860888565185\n"
     ]
    }
   ],
   "source": [
    "undersampled_accuracy_score = accuracy_score(y_test, undersampled_predictions)\n",
    "print(undersampled_accuracy_score)"
   ]
  },
  {
   "cell_type": "markdown",
   "metadata": {},
   "source": [
    "#### Confusion Matrix"
   ]
  },
  {
   "cell_type": "code",
   "execution_count": 69,
   "metadata": {},
   "outputs": [
    {
     "name": "stdout",
     "output_type": "stream",
     "text": [
      "[[6283 1020]\n",
      " [ 243  692]]\n"
     ]
    },
    {
     "data": {
      "image/png": "[encoded data removed]",
      "text/plain": [
       "<Figure size 640x480 with 2 Axes>"
      ]
     },
     "metadata": {},
     "output_type": "display_data"
    }
   ],
   "source": [
    "undersampled_confusion_matrix = confusion_matrix(y_test, undersampled_predictions)\n",
    "print(undersampled_confusion_matrix)\n",
    "confusion_matrix_display = metrics.ConfusionMatrixDisplay(confusion_matrix=undersampled_confusion_matrix)\n",
    "confusion_matrix_display.plot()\n",
    "plt.show()"
   ]
  },
  {
   "cell_type": "markdown",
   "metadata": {},
   "source": [
    "#### Classification Report"
   ]
  },
  {
   "cell_type": "code",
   "execution_count": 70,
   "metadata": {},
   "outputs": [
    {
     "name": "stdout",
     "output_type": "stream",
     "text": [
      "              precision    recall  f1-score   support\n",
      "\n",
      "           0       0.96      0.86      0.91      7303\n",
      "           1       0.40      0.74      0.52       935\n",
      "\n",
      "    accuracy                           0.85      8238\n",
      "   macro avg       0.68      0.80      0.72      8238\n",
      "weighted avg       0.90      0.85      0.86      8238\n",
      "\n"
     ]
    }
   ],
   "source": [
    "undersampled_classification_report = classification_report(y_test, undersampled_predictions)\n",
    "print(undersampled_classification_report)"
   ]
  },
  {
   "cell_type": "markdown",
   "metadata": {},
   "source": [
    "### Over-Sampling\n",
    "In Over-Sampling, the class imbalance is solved through increasing the number of samples in the minority class to match the majority class. This is done when the model cannot afford to reduce the number of data samples through Under-Sampling. There are different techniques of Over-Sampling such as Bootstrapping, SMOTE, etc."
   ]
  }
 ],
 "metadata": {
  "kernelspec": {
   "display_name": "Python 3",
   "language": "python",
   "name": "python3"
  },
  "language_info": {
   "codemirror_mode": {
    "name": "ipython",
    "version": 3
   },
   "file_extension": ".py",
   "mimetype": "text/x-python",
   "name": "python",
   "nbconvert_exporter": "python",
   "pygments_lexer": "ipython3",
   "version": "3.11.3"
  }
 },
 "nbformat": 4,
 "nbformat_minor": 2
}
