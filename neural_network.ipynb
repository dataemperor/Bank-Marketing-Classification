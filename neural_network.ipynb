{
 "cells": [
  {
   "cell_type": "markdown",
   "metadata": {},
   "source": [
    "# Neural Network"
   ]
  },
  {
   "cell_type": "code",
   "execution_count": 32,
   "metadata": {},
   "outputs": [],
   "source": [
    "import numpy as np\n",
    "import pandas as pd\n",
    "import tensorflow as tf \n",
    "import math\n",
    "from tensorflow.keras.models import Sequential\n",
    "from tensorflow.keras.layers import Dense \n",
    "from sklearn.model_selection import train_test_split\n",
    "from sklearn.preprocessing import LabelEncoder\n",
    "from sklearn.preprocessing import StandardScaler\n",
    "from sklearn.metrics import accuracy_score\n",
    "from sklearn.metrics import classification_report\n",
    "from sklearn.metrics import confusion_matrix\n",
    "from sklearn import metrics\n",
    "import matplotlib.pyplot as plt\n",
    "from imblearn.under_sampling import RandomUnderSampler\n",
    "from imblearn.over_sampling import SMOTE"
   ]
  },
  {
   "cell_type": "code",
   "execution_count": 33,
   "metadata": {},
   "outputs": [],
   "source": [
    "filePath = \"bank-additional\\\\bank-additional\\\\bank-additional-full.csv\"\n",
    "data = pd.read_csv(filePath, sep=\";\")"
   ]
  },
  {
   "cell_type": "markdown",
   "metadata": {},
   "source": [
    "## Preprocessing"
   ]
  },
  {
   "cell_type": "markdown",
   "metadata": {},
   "source": [
    "### Encoding categorical variables\n",
    "Transforming non-numeric labels into numeric labels."
   ]
  },
  {
   "cell_type": "code",
   "execution_count": 34,
   "metadata": {},
   "outputs": [],
   "source": [
    "categorical_label_encoder = LabelEncoder()\n",
    "\n",
    "for variable in data.select_dtypes(include=[\"object\"]).columns:\n",
    "    data[variable] = categorical_label_encoder.fit_transform(data[variable])"
   ]
  },
  {
   "cell_type": "markdown",
   "metadata": {},
   "source": [
    "### Seperating features and target\n",
    "Seperating/Dropping the target variable (AKA the output variable) from the features (input variables). This is done because the model the target variable itself isn't used to train the model, instead the features are to train the model in order to predict the target variable; therefore, to prevent the model from learning incorrect patterns and because the model is evaluated on the target variable, it is necessary to drop the target variable."
   ]
  },
  {
   "cell_type": "code",
   "execution_count": 35,
   "metadata": {},
   "outputs": [],
   "source": [
    "features = data.drop(\"y\", axis=1)\n",
    "target = data[\"y\"]"
   ]
  },
  {
   "cell_type": "markdown",
   "metadata": {},
   "source": [
    "### Standardization\n",
    "The aim of Standardization is to increase data quality through eliminating errors, inconsistencies and redundant data. Through having a higher quality dataset, the model will be able to learn patterns from more verbose data leading to better predictions."
   ]
  },
  {
   "cell_type": "code",
   "execution_count": 36,
   "metadata": {},
   "outputs": [],
   "source": [
    "standard_scaler = StandardScaler()\n",
    "scaled_features = standard_scaler.fit_transform(features)"
   ]
  },
  {
   "cell_type": "markdown",
   "metadata": {},
   "source": [
    "### Train Test Split\n",
    "A dataset is split into two parts, the training dataset and the testing dataset. This done so a model can be tested/evaluated after training it, without testing the model, it won't be possbile to find out whether a it is underfitted or overfitted (Bias-Variance Tradeoff)."
   ]
  },
  {
   "cell_type": "code",
   "execution_count": 37,
   "metadata": {},
   "outputs": [],
   "source": [
    "X_train, X_test, y_train, y_test = train_test_split(scaled_features, target, train_size=0.8, test_size=0.2, random_state=42)"
   ]
  },
  {
   "cell_type": "markdown",
   "metadata": {},
   "source": [
    "## Creating the Neural Network Model\n",
    "\n",
    "This model will be using a Multilayer Perceptron with an input layer, a hidden layer and an output layer. "
   ]
  },
  {
   "cell_type": "code",
   "execution_count": 38,
   "metadata": {},
   "outputs": [
    {
     "data": {
      "text/plain": [
       "20"
      ]
     },
     "execution_count": 38,
     "metadata": {},
     "output_type": "execute_result"
    }
   ],
   "source": [
    "number_of_features = features.shape[1]\n",
    "number_of_features"
   ]
  },
  {
   "cell_type": "markdown",
   "metadata": {},
   "source": [
    "### Deciding the Number of Neurons"
   ]
  },
  {
   "cell_type": "markdown",
   "metadata": {},
   "source": [
    "#### Deciding the Number of Neurons in the Input Layer and the Output Layer\n",
    "Since there are 20 inputs, there will be 20 neurons in the input layer. Since an instance can only be classified into one of two types, this model is using **Binary Classification**, therefore it will be using one neuron for the output."
   ]
  },
  {
   "cell_type": "markdown",
   "metadata": {},
   "source": [
    "#### Deciding the Number of Neurons in the Hidden Layer/Layers\n",
    "However, deciding the number of Neurons in the hidden layers, or in this case, the hidden layer is not as straightforward as the other layers. The complexity of the dataset (dimensionality, sample size, noise, distribution, etc) and whether the model is underfit or overfit has an effect on how many neurons should be in the hidden layer.\n",
    "\n",
    "According to [The Number of Hidden Layers](https://www.heatonresearch.com/2017/06/01/hidden-layers.html), there are a few rules of thumb for determining the number of neurons in a hidden layer (Additionally, this article discusses about Deep Learning and why multiple hidden layers are used despite the Universal Approximation Theorem proving that a single hidden layer neural network can learn anything). \n",
    "\n",
    "1. The average of the sum of the number of Input and Output Neurons.\n",
    "2. Sum of 2/3rds of the number of Input Neurons and the number of Output Neurons.\n",
    "3. Less than two times the number of Input Neurons\n",
    "\n",
    "The first heuristic tends to give a smaller number of hidden neurons, since there are benefits to a smaller networks such as a faster training time and being less prone to overfitting, therefore we will be deciding hte number of hidden neurons by getting the average of the sum of of the number of Input and Output Neurons."
   ]
  },
  {
   "cell_type": "code",
   "execution_count": 39,
   "metadata": {},
   "outputs": [
    {
     "data": {
      "text/plain": [
       "11"
      ]
     },
     "execution_count": 39,
     "metadata": {},
     "output_type": "execute_result"
    }
   ],
   "source": [
    "number_of_input_neurons = number_of_features\n",
    "number_of_output_neurons = 1\n",
    "number_of_hidden_neurons = math.ceil((number_of_input_neurons + number_of_output_neurons) / 2)\n",
    "number_of_hidden_neurons"
   ]
  },
  {
   "cell_type": "markdown",
   "metadata": {},
   "source": [
    "### Deciding the Activation Function\n",
    "For the activation function, ReLU will be due to the fact that it is simple and efficient, it is also the standard activation function that is used for classification tasks, with other functions such as sigmoid or Tanh being used for situations where ReLU isn't optimal."
   ]
  },
  {
   "cell_type": "markdown",
   "metadata": {},
   "source": [
    "### Coding the Model"
   ]
  },
  {
   "cell_type": "code",
   "execution_count": 40,
   "metadata": {},
   "outputs": [
    {
     "name": "stderr",
     "output_type": "stream",
     "text": [
      "c:\\Users\\Mail2\\AppData\\Local\\Programs\\Python\\Python311\\Lib\\site-packages\\keras\\src\\layers\\core\\dense.py:87: UserWarning: Do not pass an `input_shape`/`input_dim` argument to a layer. When using Sequential models, prefer using an `Input(shape)` object as the first layer in the model instead.\n",
      "  super().__init__(activity_regularizer=activity_regularizer, **kwargs)\n"
     ]
    }
   ],
   "source": [
    "input_layer = Dense(number_of_input_neurons, input_shape=(number_of_features,))\n",
    "hidden_layer = Dense(number_of_hidden_neurons, activation=\"relu\")\n",
    "output_layer = Dense(number_of_output_neurons)\n",
    "\n",
    "neural_network_model = Sequential([input_layer, hidden_layer, output_layer])"
   ]
  },
  {
   "cell_type": "markdown",
   "metadata": {},
   "source": [
    "### Compiling"
   ]
  },
  {
   "cell_type": "markdown",
   "metadata": {},
   "source": [
    "#### Optimizer\n",
    "An Optimizer modifies the weights during training to reduce the difference between predicted values and actual values, also known as **'Loss'**. There are many optimizers such as Gradient Descent, Stochastic Gradient Descent, RMSprop, Adam, etc. Optimizers are divided into two groups according to how the **learning rate** is modified. If you have to manually tune the learning rate, it is a **Gradient Descent Algorithm** and if it can automatically adapt, it is a **Adaptive Algorithm**. This model will be using an Adaptive Optimizer called **'Adam'** due to its ease of use."
   ]
  },
  {
   "cell_type": "markdown",
   "metadata": {},
   "source": [
    "#### Loss Function\n",
    "A Loss Function is used to measure how well a model can predict values, this is done by taking the difference between a predicted value and its corresponding actual value, the difference between these two are called **'Loss'**. This model will be using **Binary Cross Entropy** also known as **Logarithmic Loss** or **Log Loss**, this loss function is being used because it makes the model more likely to have output values close to 0 or 1 and because it is standard for binary classification.\n",
    "\n",
    "The aforementioned Optimizer uses the loss from a loss function to modify the weights during training."
   ]
  },
  {
   "cell_type": "code",
   "execution_count": 41,
   "metadata": {},
   "outputs": [],
   "source": [
    "neural_network_model.compile(optimizer=\"adam\", loss=\"binary_crossentropy\", metrics=[\"accuracy\"])"
   ]
  },
  {
   "cell_type": "markdown",
   "metadata": {},
   "source": [
    "## Training The Neural Network Model\n",
    "### Batch Size\n",
    "The Batch Size is a hyperparameter that defines the **number of samples/datapoints** to work through before updating the model's internal parameters as weights, biases, etc.\n",
    "\n",
    "Batches are used because updating the parameters on the entire training dataset is computationally expensive (unless the dataset is small) and because it leads to a shorter training time. However having a large batch size might mean that the model is less accurate and prone to overfitting.\n",
    "\n",
    "### Number of Epochs\n",
    "The Number of Epochs is a hyperparameter that defines the **number of training iterations** for the model.\n",
    "\n",
    "As the model goes through each epoch, its parameters are updated and patterns in the dataset are learned. It is important to have a balanced amount of epochs as too few leads to underfitting and the inability of the model to extract patterns from the dataset and on the other hand, having too many epochs leads to the model being overfit, which leads to poor predictions on new data.\n"
   ]
  },
  {
   "cell_type": "code",
   "execution_count": 42,
   "metadata": {},
   "outputs": [
    {
     "name": "stdout",
     "output_type": "stream",
     "text": [
      "Epoch 1/32\n",
      "\u001b[1m824/824\u001b[0m \u001b[32m━━━━━━━━━━━━━━━━━━━━\u001b[0m\u001b[37m\u001b[0m \u001b[1m6s\u001b[0m 4ms/step - accuracy: 0.8589 - loss: 1.1888 - val_accuracy: 0.8923 - val_loss: 0.6442\n",
      "Epoch 2/32\n",
      "\u001b[1m824/824\u001b[0m \u001b[32m━━━━━━━━━━━━━━━━━━━━\u001b[0m\u001b[37m\u001b[0m \u001b[1m2s\u001b[0m 3ms/step - accuracy: 0.9014 - loss: 0.5548 - val_accuracy: 0.9035 - val_loss: 0.4586\n",
      "Epoch 3/32\n",
      "\u001b[1m824/824\u001b[0m \u001b[32m━━━━━━━━━━━━━━━━━━━━\u001b[0m\u001b[37m\u001b[0m \u001b[1m2s\u001b[0m 2ms/step - accuracy: 0.8905 - loss: 0.5266 - val_accuracy: 0.8511 - val_loss: 0.5504\n",
      "Epoch 4/32\n",
      "\u001b[1m824/824\u001b[0m \u001b[32m━━━━━━━━━━━━━━━━━━━━\u001b[0m\u001b[37m\u001b[0m \u001b[1m2s\u001b[0m 2ms/step - accuracy: 0.8774 - loss: 0.5218 - val_accuracy: 0.9050 - val_loss: 0.4042\n",
      "Epoch 5/32\n",
      "\u001b[1m824/824\u001b[0m \u001b[32m━━━━━━━━━━━━━━━━━━━━\u001b[0m\u001b[37m\u001b[0m \u001b[1m2s\u001b[0m 2ms/step - accuracy: 0.9019 - loss: 0.3703 - val_accuracy: 0.8859 - val_loss: 0.3725\n",
      "Epoch 6/32\n",
      "\u001b[1m824/824\u001b[0m \u001b[32m━━━━━━━━━━━━━━━━━━━━\u001b[0m\u001b[37m\u001b[0m \u001b[1m2s\u001b[0m 2ms/step - accuracy: 0.9025 - loss: 0.3269 - val_accuracy: 0.9030 - val_loss: 0.3161\n",
      "Epoch 7/32\n",
      "\u001b[1m824/824\u001b[0m \u001b[32m━━━━━━━━━━━━━━━━━━━━\u001b[0m\u001b[37m\u001b[0m \u001b[1m2s\u001b[0m 2ms/step - accuracy: 0.9018 - loss: 0.3504 - val_accuracy: 0.8660 - val_loss: 0.5078\n",
      "Epoch 8/32\n",
      "\u001b[1m824/824\u001b[0m \u001b[32m━━━━━━━━━━━━━━━━━━━━\u001b[0m\u001b[37m\u001b[0m \u001b[1m2s\u001b[0m 3ms/step - accuracy: 0.8720 - loss: 0.4759 - val_accuracy: 0.9046 - val_loss: 0.3499\n",
      "Epoch 9/32\n",
      "\u001b[1m824/824\u001b[0m \u001b[32m━━━━━━━━━━━━━━━━━━━━\u001b[0m\u001b[37m\u001b[0m \u001b[1m2s\u001b[0m 3ms/step - accuracy: 0.8991 - loss: 0.4084 - val_accuracy: 0.8914 - val_loss: 0.6717\n",
      "Epoch 10/32\n",
      "\u001b[1m824/824\u001b[0m \u001b[32m━━━━━━━━━━━━━━━━━━━━\u001b[0m\u001b[37m\u001b[0m \u001b[1m3s\u001b[0m 3ms/step - accuracy: 0.8906 - loss: 0.6350 - val_accuracy: 0.8920 - val_loss: 0.6725\n",
      "Epoch 11/32\n",
      "\u001b[1m824/824\u001b[0m \u001b[32m━━━━━━━━━━━━━━━━━━━━\u001b[0m\u001b[37m\u001b[0m \u001b[1m3s\u001b[0m 3ms/step - accuracy: 0.8865 - loss: 0.6310 - val_accuracy: 0.8930 - val_loss: 0.6582\n",
      "Epoch 12/32\n",
      "\u001b[1m824/824\u001b[0m \u001b[32m━━━━━━━━━━━━━━━━━━━━\u001b[0m\u001b[37m\u001b[0m \u001b[1m2s\u001b[0m 3ms/step - accuracy: 0.8627 - loss: 0.8869 - val_accuracy: 0.8980 - val_loss: 0.3927\n",
      "Epoch 13/32\n",
      "\u001b[1m824/824\u001b[0m \u001b[32m━━━━━━━━━━━━━━━━━━━━\u001b[0m\u001b[37m\u001b[0m \u001b[1m2s\u001b[0m 2ms/step - accuracy: 0.8750 - loss: 0.5759 - val_accuracy: 0.8944 - val_loss: 0.3640\n",
      "Epoch 14/32\n",
      "\u001b[1m824/824\u001b[0m \u001b[32m━━━━━━━━━━━━━━━━━━━━\u001b[0m\u001b[37m\u001b[0m \u001b[1m2s\u001b[0m 2ms/step - accuracy: 0.9034 - loss: 0.3053 - val_accuracy: 0.9041 - val_loss: 0.2913\n",
      "Epoch 15/32\n",
      "\u001b[1m824/824\u001b[0m \u001b[32m━━━━━━━━━━━━━━━━━━━━\u001b[0m\u001b[37m\u001b[0m \u001b[1m2s\u001b[0m 2ms/step - accuracy: 0.9066 - loss: 0.2541 - val_accuracy: 0.9068 - val_loss: 0.2849\n",
      "Epoch 16/32\n",
      "\u001b[1m824/824\u001b[0m \u001b[32m━━━━━━━━━━━━━━━━━━━━\u001b[0m\u001b[37m\u001b[0m \u001b[1m2s\u001b[0m 2ms/step - accuracy: 0.9052 - loss: 0.2735 - val_accuracy: 0.8962 - val_loss: 0.2692\n",
      "Epoch 17/32\n",
      "\u001b[1m824/824\u001b[0m \u001b[32m━━━━━━━━━━━━━━━━━━━━\u001b[0m\u001b[37m\u001b[0m \u001b[1m2s\u001b[0m 2ms/step - accuracy: 0.8938 - loss: 0.2782 - val_accuracy: 0.9033 - val_loss: 0.2548\n",
      "Epoch 18/32\n",
      "\u001b[1m824/824\u001b[0m \u001b[32m━━━━━━━━━━━━━━━━━━━━\u001b[0m\u001b[37m\u001b[0m \u001b[1m2s\u001b[0m 2ms/step - accuracy: 0.9061 - loss: 0.2346 - val_accuracy: 0.9068 - val_loss: 0.2449\n",
      "Epoch 19/32\n",
      "\u001b[1m824/824\u001b[0m \u001b[32m━━━━━━━━━━━━━━━━━━━━\u001b[0m\u001b[37m\u001b[0m \u001b[1m2s\u001b[0m 2ms/step - accuracy: 0.9103 - loss: 0.2302 - val_accuracy: 0.9071 - val_loss: 0.2398\n",
      "Epoch 20/32\n",
      "\u001b[1m824/824\u001b[0m \u001b[32m━━━━━━━━━━━━━━━━━━━━\u001b[0m\u001b[37m\u001b[0m \u001b[1m2s\u001b[0m 2ms/step - accuracy: 0.9107 - loss: 0.2223 - val_accuracy: 0.8886 - val_loss: 1.1119\n",
      "Epoch 21/32\n",
      "\u001b[1m824/824\u001b[0m \u001b[32m━━━━━━━━━━━━━━━━━━━━\u001b[0m\u001b[37m\u001b[0m \u001b[1m2s\u001b[0m 2ms/step - accuracy: 0.8934 - loss: 0.7828 - val_accuracy: 0.8886 - val_loss: 0.6120\n",
      "Epoch 22/32\n",
      "\u001b[1m824/824\u001b[0m \u001b[32m━━━━━━━━━━━━━━━━━━━━\u001b[0m\u001b[37m\u001b[0m \u001b[1m2s\u001b[0m 3ms/step - accuracy: 0.8826 - loss: 0.5833 - val_accuracy: 0.8863 - val_loss: 0.4756\n",
      "Epoch 23/32\n",
      "\u001b[1m824/824\u001b[0m \u001b[32m━━━━━━━━━━━━━━━━━━━━\u001b[0m\u001b[37m\u001b[0m \u001b[1m2s\u001b[0m 3ms/step - accuracy: 0.8902 - loss: 0.3935 - val_accuracy: 0.8997 - val_loss: 0.2808\n",
      "Epoch 24/32\n",
      "\u001b[1m824/824\u001b[0m \u001b[32m━━━━━━━━━━━━━━━━━━━━\u001b[0m\u001b[37m\u001b[0m \u001b[1m3s\u001b[0m 4ms/step - accuracy: 0.8949 - loss: 0.2737 - val_accuracy: 0.9006 - val_loss: 0.2677\n",
      "Epoch 25/32\n",
      "\u001b[1m824/824\u001b[0m \u001b[32m━━━━━━━━━━━━━━━━━━━━\u001b[0m\u001b[37m\u001b[0m \u001b[1m3s\u001b[0m 3ms/step - accuracy: 0.8988 - loss: 0.2483 - val_accuracy: 0.9002 - val_loss: 0.2407\n",
      "Epoch 26/32\n",
      "\u001b[1m824/824\u001b[0m \u001b[32m━━━━━━━━━━━━━━━━━━━━\u001b[0m\u001b[37m\u001b[0m \u001b[1m2s\u001b[0m 2ms/step - accuracy: 0.9026 - loss: 0.2374 - val_accuracy: 0.9036 - val_loss: 0.2387\n",
      "Epoch 27/32\n",
      "\u001b[1m824/824\u001b[0m \u001b[32m━━━━━━━━━━━━━━━━━━━━\u001b[0m\u001b[37m\u001b[0m \u001b[1m2s\u001b[0m 3ms/step - accuracy: 0.9052 - loss: 0.2334 - val_accuracy: 0.9042 - val_loss: 0.2318\n",
      "Epoch 28/32\n",
      "\u001b[1m824/824\u001b[0m \u001b[32m━━━━━━━━━━━━━━━━━━━━\u001b[0m\u001b[37m\u001b[0m \u001b[1m2s\u001b[0m 2ms/step - accuracy: 0.9047 - loss: 0.2402 - val_accuracy: 0.9036 - val_loss: 0.2608\n",
      "Epoch 29/32\n",
      "\u001b[1m824/824\u001b[0m \u001b[32m━━━━━━━━━━━━━━━━━━━━\u001b[0m\u001b[37m\u001b[0m \u001b[1m3s\u001b[0m 4ms/step - accuracy: 0.9039 - loss: 0.2381 - val_accuracy: 0.9006 - val_loss: 0.2461\n",
      "Epoch 30/32\n",
      "\u001b[1m824/824\u001b[0m \u001b[32m━━━━━━━━━━━━━━━━━━━━\u001b[0m\u001b[37m\u001b[0m \u001b[1m2s\u001b[0m 3ms/step - accuracy: 0.9042 - loss: 0.2433 - val_accuracy: 0.8961 - val_loss: 0.2437\n",
      "Epoch 31/32\n",
      "\u001b[1m824/824\u001b[0m \u001b[32m━━━━━━━━━━━━━━━━━━━━\u001b[0m\u001b[37m\u001b[0m \u001b[1m2s\u001b[0m 2ms/step - accuracy: 0.9082 - loss: 0.2302 - val_accuracy: 0.9036 - val_loss: 0.2540\n",
      "Epoch 32/32\n",
      "\u001b[1m824/824\u001b[0m \u001b[32m━━━━━━━━━━━━━━━━━━━━\u001b[0m\u001b[37m\u001b[0m \u001b[1m3s\u001b[0m 3ms/step - accuracy: 0.9037 - loss: 0.2395 - val_accuracy: 0.9018 - val_loss: 0.2590\n"
     ]
    }
   ],
   "source": [
    "trained_neural_network = neural_network_model.fit(X_train, y_train, batch_size=32, epochs=32, validation_split=0.2, verbose=1)"
   ]
  },
  {
   "cell_type": "markdown",
   "metadata": {},
   "source": [
    "## Testing"
   ]
  },
  {
   "cell_type": "code",
   "execution_count": 43,
   "metadata": {},
   "outputs": [
    {
     "name": "stdout",
     "output_type": "stream",
     "text": [
      "\u001b[1m1030/1030\u001b[0m \u001b[32m━━━━━━━━━━━━━━━━━━━━\u001b[0m\u001b[37m\u001b[0m \u001b[1m2s\u001b[0m 2ms/step\n",
      "\u001b[1m258/258\u001b[0m \u001b[32m━━━━━━━━━━━━━━━━━━━━\u001b[0m\u001b[37m\u001b[0m \u001b[1m0s\u001b[0m 2ms/step\n"
     ]
    }
   ],
   "source": [
    "training_predictions = (neural_network_model.predict(X_train) > 0.5).astype(\"int32\")\n",
    "testing_predictions = (neural_network_model.predict(X_test) > 0.5).astype(\"int32\")"
   ]
  },
  {
   "cell_type": "markdown",
   "metadata": {},
   "source": [
    "### Accuracy Score\n",
    "From the similar accuracy scores, it can be seen that the model is not overfit."
   ]
  },
  {
   "cell_type": "code",
   "execution_count": 44,
   "metadata": {},
   "outputs": [
    {
     "name": "stdout",
     "output_type": "stream",
     "text": [
      "Training Accuracy:  0.9060091047040971\n",
      "Testing Accuracy:  0.906409322651129\n"
     ]
    }
   ],
   "source": [
    "model_accuracy_score_training = accuracy_score(y_train, training_predictions)\n",
    "model_accuracy_score_testing = accuracy_score(y_test, testing_predictions)\n",
    "print(\"Training Accuracy: \", model_accuracy_score_training)\n",
    "print(\"Testing Accuracy: \", model_accuracy_score_testing)"
   ]
  },
  {
   "cell_type": "markdown",
   "metadata": {},
   "source": [
    "### Confusion Matrix\n",
    "From the Confusion Matrix, it can be observed that the model fails in predicting positive values AKA the potential customer subscribing, this is due to a large class imbalance in the dataset causing the model to favour the majority class of 'no' over the minority class of 'yes'."
   ]
  },
  {
   "cell_type": "code",
   "execution_count": 45,
   "metadata": {},
   "outputs": [
    {
     "name": "stdout",
     "output_type": "stream",
     "text": [
      "[[7135  168]\n",
      " [ 603  332]]\n"
     ]
    },
    {
     "data": {
      "image/png": "[encoded data removed]",
      "text/plain": [
       "<Figure size 640x480 with 2 Axes>"
      ]
     },
     "metadata": {},
     "output_type": "display_data"
    }
   ],
   "source": [
    "model_confusion_matrix = confusion_matrix(y_test, testing_predictions)\n",
    "print(model_confusion_matrix)\n",
    "confusion_matrix_display = metrics.ConfusionMatrixDisplay(confusion_matrix=model_confusion_matrix)\n",
    "confusion_matrix_display.plot()\n",
    "plt.show()"
   ]
  },
  {
   "cell_type": "markdown",
   "metadata": {},
   "source": [
    "### Classification Report\n",
    "Although the model performs well on the majority class, as seen by the low precision, recall and other metrics; it can be concluded that the model fails in predicting whether a potential customer will subscribe. \n",
    "\n",
    "This failure can be attirbuted to the dataset as a whole and therefore the training dataset too, having significantly more samples with a class of 'no' (coded as '0') as opposed to samples of class 'yes' (coded as '1')"
   ]
  },
  {
   "cell_type": "code",
   "execution_count": 46,
   "metadata": {},
   "outputs": [
    {
     "name": "stdout",
     "output_type": "stream",
     "text": [
      "              precision    recall  f1-score   support\n",
      "\n",
      "           0       0.92      0.98      0.95      7303\n",
      "           1       0.66      0.36      0.46       935\n",
      "\n",
      "    accuracy                           0.91      8238\n",
      "   macro avg       0.79      0.67      0.71      8238\n",
      "weighted avg       0.89      0.91      0.89      8238\n",
      "\n"
     ]
    }
   ],
   "source": [
    "\n",
    "model_classification_report = classification_report(y_test, testing_predictions)\n",
    "print(model_classification_report)"
   ]
  },
  {
   "cell_type": "markdown",
   "metadata": {},
   "source": [
    "## How To Handle Imbalanced Data?\n",
    "There are multiple techniques to handle Imbalanced data such as Ensemble models, resampling with a different ratio, etc however experiments will be run on this model by resampling the training set. There are two methods of resampling **Under-Sampling** and **Over-Sampling**."
   ]
  },
  {
   "cell_type": "markdown",
   "metadata": {},
   "source": [
    "### Under-Sampling\n",
    "In Under-Sampling, the class imbalance is solved through reducing the number of samples in the majority class to match the minority class. This is typically done on very large datasets as the reduction in the number of data samples causes a decrease in performance from the loss of information, this is known as **Underfitting**."
   ]
  },
  {
   "cell_type": "code",
   "execution_count": 47,
   "metadata": {},
   "outputs": [
    {
     "name": "stdout",
     "output_type": "stream",
     "text": [
      "Epoch 1/32\n",
      "\u001b[1m186/186\u001b[0m \u001b[32m━━━━━━━━━━━━━━━━━━━━\u001b[0m\u001b[37m\u001b[0m \u001b[1m1s\u001b[0m 6ms/step - accuracy: 0.8021 - loss: 0.4753 - val_accuracy: 0.7578 - val_loss: 0.6384\n",
      "Epoch 2/32\n",
      "\u001b[1m186/186\u001b[0m \u001b[32m━━━━━━━━━━━━━━━━━━━━\u001b[0m\u001b[37m\u001b[0m \u001b[1m1s\u001b[0m 3ms/step - accuracy: 0.8480 - loss: 0.4573 - val_accuracy: 0.7645 - val_loss: 0.6210\n",
      "Epoch 3/32\n",
      "\u001b[1m186/186\u001b[0m \u001b[32m━━━━━━━━━━━━━━━━━━━━\u001b[0m\u001b[37m\u001b[0m \u001b[1m1s\u001b[0m 4ms/step - accuracy: 0.8568 - loss: 0.4175 - val_accuracy: 0.7692 - val_loss: 0.6177\n",
      "Epoch 4/32\n",
      "\u001b[1m186/186\u001b[0m \u001b[32m━━━━━━━━━━━━━━━━━━━━\u001b[0m\u001b[37m\u001b[0m \u001b[1m0s\u001b[0m 2ms/step - accuracy: 0.8353 - loss: 0.4566 - val_accuracy: 0.4399 - val_loss: 1.8104\n",
      "Epoch 5/32\n",
      "\u001b[1m186/186\u001b[0m \u001b[32m━━━━━━━━━━━━━━━━━━━━\u001b[0m\u001b[37m\u001b[0m \u001b[1m0s\u001b[0m 2ms/step - accuracy: 0.7906 - loss: 0.5355 - val_accuracy: 0.7220 - val_loss: 0.6859\n",
      "Epoch 6/32\n",
      "\u001b[1m186/186\u001b[0m \u001b[32m━━━━━━━━━━━━━━━━━━━━\u001b[0m\u001b[37m\u001b[0m \u001b[1m1s\u001b[0m 4ms/step - accuracy: 0.8363 - loss: 0.4092 - val_accuracy: 0.7510 - val_loss: 0.6520\n",
      "Epoch 7/32\n",
      "\u001b[1m186/186\u001b[0m \u001b[32m━━━━━━━━━━━━━━━━━━━━\u001b[0m\u001b[37m\u001b[0m \u001b[1m1s\u001b[0m 3ms/step - accuracy: 0.8361 - loss: 0.4266 - val_accuracy: 0.7463 - val_loss: 0.6619\n",
      "Epoch 8/32\n",
      "\u001b[1m186/186\u001b[0m \u001b[32m━━━━━━━━━━━━━━━━━━━━\u001b[0m\u001b[37m\u001b[0m \u001b[1m1s\u001b[0m 3ms/step - accuracy: 0.8234 - loss: 0.3992 - val_accuracy: 0.6390 - val_loss: 0.7304\n",
      "Epoch 9/32\n",
      "\u001b[1m186/186\u001b[0m \u001b[32m━━━━━━━━━━━━━━━━━━━━\u001b[0m\u001b[37m\u001b[0m \u001b[1m1s\u001b[0m 3ms/step - accuracy: 0.8203 - loss: 0.3964 - val_accuracy: 0.7679 - val_loss: 0.5755\n",
      "Epoch 10/32\n",
      "\u001b[1m186/186\u001b[0m \u001b[32m━━━━━━━━━━━━━━━━━━━━\u001b[0m\u001b[37m\u001b[0m \u001b[1m1s\u001b[0m 3ms/step - accuracy: 0.8273 - loss: 0.4214 - val_accuracy: 0.7638 - val_loss: 0.5634\n",
      "Epoch 11/32\n",
      "\u001b[1m186/186\u001b[0m \u001b[32m━━━━━━━━━━━━━━━━━━━━\u001b[0m\u001b[37m\u001b[0m \u001b[1m1s\u001b[0m 3ms/step - accuracy: 0.8416 - loss: 0.3950 - val_accuracy: 0.7416 - val_loss: 0.5823\n",
      "Epoch 12/32\n",
      "\u001b[1m186/186\u001b[0m \u001b[32m━━━━━━━━━━━━━━━━━━━━\u001b[0m\u001b[37m\u001b[0m \u001b[1m1s\u001b[0m 3ms/step - accuracy: 0.8550 - loss: 0.3515 - val_accuracy: 0.7045 - val_loss: 0.6443\n",
      "Epoch 13/32\n",
      "\u001b[1m186/186\u001b[0m \u001b[32m━━━━━━━━━━━━━━━━━━━━\u001b[0m\u001b[37m\u001b[0m \u001b[1m1s\u001b[0m 5ms/step - accuracy: 0.8236 - loss: 0.3951 - val_accuracy: 0.7409 - val_loss: 0.5816\n",
      "Epoch 14/32\n",
      "\u001b[1m186/186\u001b[0m \u001b[32m━━━━━━━━━━━━━━━━━━━━\u001b[0m\u001b[37m\u001b[0m \u001b[1m1s\u001b[0m 5ms/step - accuracy: 0.8416 - loss: 0.3630 - val_accuracy: 0.7463 - val_loss: 0.6006\n",
      "Epoch 15/32\n",
      "\u001b[1m186/186\u001b[0m \u001b[32m━━━━━━━━━━━━━━━━━━━━\u001b[0m\u001b[37m\u001b[0m \u001b[1m1s\u001b[0m 5ms/step - accuracy: 0.8501 - loss: 0.3640 - val_accuracy: 0.6363 - val_loss: 0.7239\n",
      "Epoch 16/32\n",
      "\u001b[1m186/186\u001b[0m \u001b[32m━━━━━━━━━━━━━━━━━━━━\u001b[0m\u001b[37m\u001b[0m \u001b[1m1s\u001b[0m 5ms/step - accuracy: 0.8397 - loss: 0.3923 - val_accuracy: 0.7652 - val_loss: 0.5676\n",
      "Epoch 17/32\n",
      "\u001b[1m186/186\u001b[0m \u001b[32m━━━━━━━━━━━━━━━━━━━━\u001b[0m\u001b[37m\u001b[0m \u001b[1m1s\u001b[0m 4ms/step - accuracy: 0.8588 - loss: 0.3695 - val_accuracy: 0.7713 - val_loss: 0.5777\n",
      "Epoch 18/32\n",
      "\u001b[1m186/186\u001b[0m \u001b[32m━━━━━━━━━━━━━━━━━━━━\u001b[0m\u001b[37m\u001b[0m \u001b[1m1s\u001b[0m 4ms/step - accuracy: 0.8561 - loss: 0.3636 - val_accuracy: 0.7672 - val_loss: 0.6008\n",
      "Epoch 19/32\n",
      "\u001b[1m186/186\u001b[0m \u001b[32m━━━━━━━━━━━━━━━━━━━━\u001b[0m\u001b[37m\u001b[0m \u001b[1m1s\u001b[0m 3ms/step - accuracy: 0.8593 - loss: 0.3413 - val_accuracy: 0.8030 - val_loss: 0.5226\n",
      "Epoch 20/32\n",
      "\u001b[1m186/186\u001b[0m \u001b[32m━━━━━━━━━━━━━━━━━━━━\u001b[0m\u001b[37m\u001b[0m \u001b[1m1s\u001b[0m 3ms/step - accuracy: 0.8623 - loss: 0.3754 - val_accuracy: 0.7962 - val_loss: 0.5440\n",
      "Epoch 21/32\n",
      "\u001b[1m186/186\u001b[0m \u001b[32m━━━━━━━━━━━━━━━━━━━━\u001b[0m\u001b[37m\u001b[0m \u001b[1m1s\u001b[0m 3ms/step - accuracy: 0.8613 - loss: 0.3484 - val_accuracy: 0.7807 - val_loss: 0.5628\n",
      "Epoch 22/32\n",
      "\u001b[1m186/186\u001b[0m \u001b[32m━━━━━━━━━━━━━━━━━━━━\u001b[0m\u001b[37m\u001b[0m \u001b[1m1s\u001b[0m 3ms/step - accuracy: 0.8584 - loss: 0.3429 - val_accuracy: 0.5904 - val_loss: 0.7925\n",
      "Epoch 23/32\n",
      "\u001b[1m186/186\u001b[0m \u001b[32m━━━━━━━━━━━━━━━━━━━━\u001b[0m\u001b[37m\u001b[0m \u001b[1m1s\u001b[0m 3ms/step - accuracy: 0.8401 - loss: 0.3816 - val_accuracy: 0.7922 - val_loss: 0.5553\n",
      "Epoch 24/32\n",
      "\u001b[1m186/186\u001b[0m \u001b[32m━━━━━━━━━━━━━━━━━━━━\u001b[0m\u001b[37m\u001b[0m \u001b[1m1s\u001b[0m 3ms/step - accuracy: 0.8601 - loss: 0.3451 - val_accuracy: 0.7679 - val_loss: 0.6019\n",
      "Epoch 25/32\n",
      "\u001b[1m186/186\u001b[0m \u001b[32m━━━━━━━━━━━━━━━━━━━━\u001b[0m\u001b[37m\u001b[0m \u001b[1m1s\u001b[0m 5ms/step - accuracy: 0.8674 - loss: 0.3691 - val_accuracy: 0.7942 - val_loss: 0.5731\n",
      "Epoch 26/32\n",
      "\u001b[1m186/186\u001b[0m \u001b[32m━━━━━━━━━━━━━━━━━━━━\u001b[0m\u001b[37m\u001b[0m \u001b[1m1s\u001b[0m 3ms/step - accuracy: 0.8623 - loss: 0.3962 - val_accuracy: 0.7038 - val_loss: 0.7079\n",
      "Epoch 27/32\n",
      "\u001b[1m186/186\u001b[0m \u001b[32m━━━━━━━━━━━━━━━━━━━━\u001b[0m\u001b[37m\u001b[0m \u001b[1m1s\u001b[0m 3ms/step - accuracy: 0.8465 - loss: 0.3688 - val_accuracy: 0.8313 - val_loss: 0.4762\n",
      "Epoch 28/32\n",
      "\u001b[1m186/186\u001b[0m \u001b[32m━━━━━━━━━━━━━━━━━━━━\u001b[0m\u001b[37m\u001b[0m \u001b[1m0s\u001b[0m 2ms/step - accuracy: 0.8472 - loss: 0.3419 - val_accuracy: 0.7294 - val_loss: 0.6507\n",
      "Epoch 29/32\n",
      "\u001b[1m186/186\u001b[0m \u001b[32m━━━━━━━━━━━━━━━━━━━━\u001b[0m\u001b[37m\u001b[0m \u001b[1m1s\u001b[0m 3ms/step - accuracy: 0.8527 - loss: 0.3494 - val_accuracy: 0.7901 - val_loss: 0.6023\n",
      "Epoch 30/32\n",
      "\u001b[1m186/186\u001b[0m \u001b[32m━━━━━━━━━━━━━━━━━━━━\u001b[0m\u001b[37m\u001b[0m \u001b[1m1s\u001b[0m 3ms/step - accuracy: 0.8484 - loss: 0.3580 - val_accuracy: 0.7989 - val_loss: 0.5771\n",
      "Epoch 31/32\n",
      "\u001b[1m186/186\u001b[0m \u001b[32m━━━━━━━━━━━━━━━━━━━━\u001b[0m\u001b[37m\u001b[0m \u001b[1m1s\u001b[0m 3ms/step - accuracy: 0.8547 - loss: 0.3423 - val_accuracy: 0.8030 - val_loss: 0.5783\n",
      "Epoch 32/32\n",
      "\u001b[1m186/186\u001b[0m \u001b[32m━━━━━━━━━━━━━━━━━━━━\u001b[0m\u001b[37m\u001b[0m \u001b[1m1s\u001b[0m 3ms/step - accuracy: 0.8617 - loss: 0.3599 - val_accuracy: 0.8360 - val_loss: 0.4626\n",
      "\u001b[1m1030/1030\u001b[0m \u001b[32m━━━━━━━━━━━━━━━━━━━━\u001b[0m\u001b[37m\u001b[0m \u001b[1m1s\u001b[0m 936us/step\n",
      "\u001b[1m258/258\u001b[0m \u001b[32m━━━━━━━━━━━━━━━━━━━━\u001b[0m\u001b[37m\u001b[0m \u001b[1m0s\u001b[0m 1ms/step\n"
     ]
    }
   ],
   "source": [
    "random_under_sampler = RandomUnderSampler(random_state=42)\n",
    "undersampled_X_train, undersampled_y_train = random_under_sampler.fit_resample(X_train, y_train)\n",
    "\n",
    "trained_undersampled_neural_network = neural_network_model.fit(undersampled_X_train, undersampled_y_train, batch_size=32, epochs=32, validation_split=0.2, verbose=1)\n",
    "\n",
    "\n",
    "undersampled_training_predictions = (neural_network_model.predict(X_train) > 0.5).astype(\"int32\")\n",
    "undersampled_testing_predictions = (neural_network_model.predict(X_test) > 0.5).astype(\"int32\")"
   ]
  },
  {
   "cell_type": "markdown",
   "metadata": {},
   "source": [
    "#### Accuracy Score"
   ]
  },
  {
   "cell_type": "code",
   "execution_count": 48,
   "metadata": {},
   "outputs": [
    {
     "name": "stdout",
     "output_type": "stream",
     "text": [
      "Training Accuracy:  0.8685887708649469\n",
      "Testing Accuracy:  0.8672007768875941\n"
     ]
    }
   ],
   "source": [
    "undersampled_training_accuracy_score = accuracy_score(y_train, undersampled_training_predictions)\n",
    "undersampled_testing_accuracy_score = accuracy_score(y_test, undersampled_testing_predictions)\n",
    "print(\"Training Accuracy: \", undersampled_training_accuracy_score)\n",
    "print(\"Testing Accuracy: \", undersampled_testing_accuracy_score)"
   ]
  },
  {
   "cell_type": "markdown",
   "metadata": {},
   "source": [
    "#### Confusion Matrix"
   ]
  },
  {
   "cell_type": "code",
   "execution_count": 49,
   "metadata": {},
   "outputs": [
    {
     "name": "stdout",
     "output_type": "stream",
     "text": [
      "[[6348  955]\n",
      " [ 139  796]]\n"
     ]
    },
    {
     "data": {
      "image/png": "[encoded data removed]",
      "text/plain": [
       "<Figure size 640x480 with 2 Axes>"
      ]
     },
     "metadata": {},
     "output_type": "display_data"
    }
   ],
   "source": [
    "undersampled_confusion_matrix = confusion_matrix(y_test, undersampled_testing_predictions)\n",
    "print(undersampled_confusion_matrix)\n",
    "confusion_matrix_display = metrics.ConfusionMatrixDisplay(confusion_matrix=undersampled_confusion_matrix)\n",
    "confusion_matrix_display.plot()\n",
    "plt.show()"
   ]
  },
  {
   "cell_type": "markdown",
   "metadata": {},
   "source": [
    "#### Classification Report"
   ]
  },
  {
   "cell_type": "code",
   "execution_count": 50,
   "metadata": {},
   "outputs": [
    {
     "name": "stdout",
     "output_type": "stream",
     "text": [
      "              precision    recall  f1-score   support\n",
      "\n",
      "           0       0.98      0.87      0.92      7303\n",
      "           1       0.45      0.85      0.59       935\n",
      "\n",
      "    accuracy                           0.87      8238\n",
      "   macro avg       0.72      0.86      0.76      8238\n",
      "weighted avg       0.92      0.87      0.88      8238\n",
      "\n"
     ]
    }
   ],
   "source": [
    "undersampled_classification_report = classification_report(y_test, undersampled_testing_predictions)\n",
    "print(undersampled_classification_report)"
   ]
  },
  {
   "cell_type": "markdown",
   "metadata": {},
   "source": [
    "### Over-Sampling\n",
    "In Over-Sampling, the class imbalance is solved through increasing the number of samples in the minority class to match the majority class. This is done when the model cannot afford to reduce the number of data samples through Under-Sampling. There are different techniques of Over-Sampling such as Bootstrapping, SMOTE, etc.\n",
    "\n",
    "Since the bank-additional dataset is not a small dataset but a medium dataset, SMOTE will be used over Bootstrapping."
   ]
  },
  {
   "cell_type": "code",
   "execution_count": 51,
   "metadata": {},
   "outputs": [
    {
     "name": "stdout",
     "output_type": "stream",
     "text": [
      "Epoch 1/32\n",
      "\u001b[1m1463/1463\u001b[0m \u001b[32m━━━━━━━━━━━━━━━━━━━━\u001b[0m\u001b[37m\u001b[0m \u001b[1m4s\u001b[0m 2ms/step - accuracy: 0.8615 - loss: 0.3700 - val_accuracy: 0.8576 - val_loss: 0.4359\n",
      "Epoch 2/32\n",
      "\u001b[1m1463/1463\u001b[0m \u001b[32m━━━━━━━━━━━━━━━━━━━━\u001b[0m\u001b[37m\u001b[0m \u001b[1m3s\u001b[0m 2ms/step - accuracy: 0.8682 - loss: 0.3374 - val_accuracy: 0.8749 - val_loss: 0.3907\n",
      "Epoch 3/32\n",
      "\u001b[1m1463/1463\u001b[0m \u001b[32m━━━━━━━━━━━━━━━━━━━━\u001b[0m\u001b[37m\u001b[0m \u001b[1m3s\u001b[0m 2ms/step - accuracy: 0.8400 - loss: 0.4439 - val_accuracy: 0.8585 - val_loss: 0.4170\n",
      "Epoch 4/32\n",
      "\u001b[1m1463/1463\u001b[0m \u001b[32m━━━━━━━━━━━━━━━━━━━━\u001b[0m\u001b[37m\u001b[0m \u001b[1m3s\u001b[0m 2ms/step - accuracy: 0.8697 - loss: 0.3323 - val_accuracy: 0.8860 - val_loss: 0.3722\n",
      "Epoch 5/32\n",
      "\u001b[1m1463/1463\u001b[0m \u001b[32m━━━━━━━━━━━━━━━━━━━━\u001b[0m\u001b[37m\u001b[0m \u001b[1m3s\u001b[0m 2ms/step - accuracy: 0.8752 - loss: 0.3188 - val_accuracy: 0.8745 - val_loss: 0.4181\n",
      "Epoch 6/32\n",
      "\u001b[1m1463/1463\u001b[0m \u001b[32m━━━━━━━━━━━━━━━━━━━━\u001b[0m\u001b[37m\u001b[0m \u001b[1m3s\u001b[0m 2ms/step - accuracy: 0.8702 - loss: 0.3298 - val_accuracy: 0.8881 - val_loss: 0.3772\n",
      "Epoch 7/32\n",
      "\u001b[1m1463/1463\u001b[0m \u001b[32m━━━━━━━━━━━━━━━━━━━━\u001b[0m\u001b[37m\u001b[0m \u001b[1m4s\u001b[0m 2ms/step - accuracy: 0.8700 - loss: 0.3345 - val_accuracy: 0.8766 - val_loss: 0.4243\n",
      "Epoch 8/32\n",
      "\u001b[1m1463/1463\u001b[0m \u001b[32m━━━━━━━━━━━━━━━━━━━━\u001b[0m\u001b[37m\u001b[0m \u001b[1m4s\u001b[0m 3ms/step - accuracy: 0.8671 - loss: 0.3269 - val_accuracy: 0.8478 - val_loss: 0.4473\n",
      "Epoch 9/32\n",
      "\u001b[1m1463/1463\u001b[0m \u001b[32m━━━━━━━━━━━━━━━━━━━━\u001b[0m\u001b[37m\u001b[0m \u001b[1m4s\u001b[0m 2ms/step - accuracy: 0.8707 - loss: 0.3182 - val_accuracy: 0.8711 - val_loss: 0.4230\n",
      "Epoch 10/32\n",
      "\u001b[1m1463/1463\u001b[0m \u001b[32m━━━━━━━━━━━━━━━━━━━━\u001b[0m\u001b[37m\u001b[0m \u001b[1m3s\u001b[0m 2ms/step - accuracy: 0.8753 - loss: 0.3169 - val_accuracy: 0.8823 - val_loss: 0.3970\n",
      "Epoch 11/32\n",
      "\u001b[1m1463/1463\u001b[0m \u001b[32m━━━━━━━━━━━━━━━━━━━━\u001b[0m\u001b[37m\u001b[0m \u001b[1m3s\u001b[0m 2ms/step - accuracy: 0.8695 - loss: 0.3334 - val_accuracy: 0.8862 - val_loss: 0.4078\n",
      "Epoch 12/32\n",
      "\u001b[1m1463/1463\u001b[0m \u001b[32m━━━━━━━━━━━━━━━━━━━━\u001b[0m\u001b[37m\u001b[0m \u001b[1m3s\u001b[0m 2ms/step - accuracy: 0.8609 - loss: 0.3385 - val_accuracy: 0.9410 - val_loss: 0.2808\n",
      "Epoch 13/32\n",
      "\u001b[1m1463/1463\u001b[0m \u001b[32m━━━━━━━━━━━━━━━━━━━━\u001b[0m\u001b[37m\u001b[0m \u001b[1m3s\u001b[0m 2ms/step - accuracy: 0.8393 - loss: 0.3407 - val_accuracy: 0.8822 - val_loss: 0.4557\n",
      "Epoch 14/32\n",
      "\u001b[1m1463/1463\u001b[0m \u001b[32m━━━━━━━━━━━━━━━━━━━━\u001b[0m\u001b[37m\u001b[0m \u001b[1m4s\u001b[0m 3ms/step - accuracy: 0.8756 - loss: 0.3076 - val_accuracy: 0.8942 - val_loss: 0.3820\n",
      "Epoch 15/32\n",
      "\u001b[1m1463/1463\u001b[0m \u001b[32m━━━━━━━━━━━━━━━━━━━━\u001b[0m\u001b[37m\u001b[0m \u001b[1m5s\u001b[0m 4ms/step - accuracy: 0.8505 - loss: 0.3535 - val_accuracy: 0.8831 - val_loss: 0.4084\n",
      "Epoch 16/32\n",
      "\u001b[1m1463/1463\u001b[0m \u001b[32m━━━━━━━━━━━━━━━━━━━━\u001b[0m\u001b[37m\u001b[0m \u001b[1m9s\u001b[0m 2ms/step - accuracy: 0.8715 - loss: 0.3212 - val_accuracy: 0.8820 - val_loss: 0.3849\n",
      "Epoch 17/32\n",
      "\u001b[1m1463/1463\u001b[0m \u001b[32m━━━━━━━━━━━━━━━━━━━━\u001b[0m\u001b[37m\u001b[0m \u001b[1m4s\u001b[0m 2ms/step - accuracy: 0.8757 - loss: 0.3164 - val_accuracy: 0.8936 - val_loss: 0.3889\n",
      "Epoch 18/32\n",
      "\u001b[1m1463/1463\u001b[0m \u001b[32m━━━━━━━━━━━━━━━━━━━━\u001b[0m\u001b[37m\u001b[0m \u001b[1m4s\u001b[0m 3ms/step - accuracy: 0.8516 - loss: 0.3400 - val_accuracy: 0.8813 - val_loss: 0.4437\n",
      "Epoch 19/32\n",
      "\u001b[1m1463/1463\u001b[0m \u001b[32m━━━━━━━━━━━━━━━━━━━━\u001b[0m\u001b[37m\u001b[0m \u001b[1m4s\u001b[0m 2ms/step - accuracy: 0.8725 - loss: 0.3036 - val_accuracy: 0.8484 - val_loss: 0.5052\n",
      "Epoch 20/32\n",
      "\u001b[1m1463/1463\u001b[0m \u001b[32m━━━━━━━━━━━━━━━━━━━━\u001b[0m\u001b[37m\u001b[0m \u001b[1m4s\u001b[0m 2ms/step - accuracy: 0.8739 - loss: 0.3172 - val_accuracy: 0.8024 - val_loss: 0.5153\n",
      "Epoch 21/32\n",
      "\u001b[1m1463/1463\u001b[0m \u001b[32m━━━━━━━━━━━━━━━━━━━━\u001b[0m\u001b[37m\u001b[0m \u001b[1m3s\u001b[0m 2ms/step - accuracy: 0.8628 - loss: 0.3262 - val_accuracy: 0.8283 - val_loss: 0.5498\n",
      "Epoch 22/32\n",
      "\u001b[1m1463/1463\u001b[0m \u001b[32m━━━━━━━━━━━━━━━━━━━━\u001b[0m\u001b[37m\u001b[0m \u001b[1m5s\u001b[0m 3ms/step - accuracy: 0.8771 - loss: 0.3092 - val_accuracy: 0.8828 - val_loss: 0.3860\n",
      "Epoch 23/32\n",
      "\u001b[1m1463/1463\u001b[0m \u001b[32m━━━━━━━━━━━━━━━━━━━━\u001b[0m\u001b[37m\u001b[0m \u001b[1m4s\u001b[0m 2ms/step - accuracy: 0.8543 - loss: 0.3815 - val_accuracy: 0.9046 - val_loss: 0.3654\n",
      "Epoch 24/32\n",
      "\u001b[1m1463/1463\u001b[0m \u001b[32m━━━━━━━━━━━━━━━━━━━━\u001b[0m\u001b[37m\u001b[0m \u001b[1m4s\u001b[0m 2ms/step - accuracy: 0.8763 - loss: 0.3075 - val_accuracy: 0.8930 - val_loss: 0.4107\n",
      "Epoch 25/32\n",
      "\u001b[1m1463/1463\u001b[0m \u001b[32m━━━━━━━━━━━━━━━━━━━━\u001b[0m\u001b[37m\u001b[0m \u001b[1m3s\u001b[0m 2ms/step - accuracy: 0.8791 - loss: 0.2954 - val_accuracy: 0.8937 - val_loss: 0.3771\n",
      "Epoch 26/32\n",
      "\u001b[1m1463/1463\u001b[0m \u001b[32m━━━━━━━━━━━━━━━━━━━━\u001b[0m\u001b[37m\u001b[0m \u001b[1m3s\u001b[0m 2ms/step - accuracy: 0.8773 - loss: 0.3117 - val_accuracy: 0.9086 - val_loss: 0.3655\n",
      "Epoch 27/32\n",
      "\u001b[1m1463/1463\u001b[0m \u001b[32m━━━━━━━━━━━━━━━━━━━━\u001b[0m\u001b[37m\u001b[0m \u001b[1m4s\u001b[0m 2ms/step - accuracy: 0.8446 - loss: 0.4020 - val_accuracy: 0.8903 - val_loss: 0.4291\n",
      "Epoch 28/32\n",
      "\u001b[1m1463/1463\u001b[0m \u001b[32m━━━━━━━━━━━━━━━━━━━━\u001b[0m\u001b[37m\u001b[0m \u001b[1m3s\u001b[0m 2ms/step - accuracy: 0.8754 - loss: 0.3018 - val_accuracy: 0.8936 - val_loss: 0.3989\n",
      "Epoch 29/32\n",
      "\u001b[1m1463/1463\u001b[0m \u001b[32m━━━━━━━━━━━━━━━━━━━━\u001b[0m\u001b[37m\u001b[0m \u001b[1m5s\u001b[0m 3ms/step - accuracy: 0.8766 - loss: 0.3067 - val_accuracy: 0.8875 - val_loss: 0.3902\n",
      "Epoch 30/32\n",
      "\u001b[1m1463/1463\u001b[0m \u001b[32m━━━━━━━━━━━━━━━━━━━━\u001b[0m\u001b[37m\u001b[0m \u001b[1m4s\u001b[0m 3ms/step - accuracy: 0.8770 - loss: 0.2969 - val_accuracy: 0.8832 - val_loss: 0.4171\n",
      "Epoch 31/32\n",
      "\u001b[1m1463/1463\u001b[0m \u001b[32m━━━━━━━━━━━━━━━━━━━━\u001b[0m\u001b[37m\u001b[0m \u001b[1m3s\u001b[0m 2ms/step - accuracy: 0.8704 - loss: 0.3253 - val_accuracy: 0.8738 - val_loss: 0.4057\n",
      "Epoch 32/32\n",
      "\u001b[1m1463/1463\u001b[0m \u001b[32m━━━━━━━━━━━━━━━━━━━━\u001b[0m\u001b[37m\u001b[0m \u001b[1m3s\u001b[0m 2ms/step - accuracy: 0.8747 - loss: 0.2974 - val_accuracy: 0.8939 - val_loss: 0.4362\n",
      "\u001b[1m1030/1030\u001b[0m \u001b[32m━━━━━━━━━━━━━━━━━━━━\u001b[0m\u001b[37m\u001b[0m \u001b[1m1s\u001b[0m 835us/step\n",
      "\u001b[1m258/258\u001b[0m \u001b[32m━━━━━━━━━━━━━━━━━━━━\u001b[0m\u001b[37m\u001b[0m \u001b[1m0s\u001b[0m 990us/step\n"
     ]
    }
   ],
   "source": [
    "smote = SMOTE(random_state=42)\n",
    "oversampled_X_train, oversampled_y_train = smote.fit_resample(X_train, y_train)\n",
    "\n",
    "trained_oversampled_neural_network = neural_network_model.fit(oversampled_X_train, oversampled_y_train, batch_size=32, epochs=32, validation_split=0.2, verbose=1)\n",
    "\n",
    "oversampled_training_predictions = (neural_network_model.predict(X_train) > 0.5).astype(\"int32\")\n",
    "oversampled_testing_predictions = (neural_network_model.predict(X_test) > 0.5).astype(\"int32\")"
   ]
  },
  {
   "cell_type": "markdown",
   "metadata": {},
   "source": [
    "#### Accuracy Score"
   ]
  },
  {
   "cell_type": "code",
   "execution_count": 54,
   "metadata": {},
   "outputs": [
    {
     "name": "stdout",
     "output_type": "stream",
     "text": [
      "Training Accuracy:  0.862185128983308\n",
      "Testing Accuracy:  0.8596746783199806\n"
     ]
    }
   ],
   "source": [
    "\n",
    "oversampled_training_accuracy_score = accuracy_score(y_train, oversampled_training_predictions)\n",
    "oversampled_testing_accuracy_score = accuracy_score(y_test, oversampled_testing_predictions)\n",
    "print(\"Training Accuracy: \", oversampled_training_accuracy_score)\n",
    "print(\"Testing Accuracy: \", oversampled_testing_accuracy_score)"
   ]
  },
  {
   "cell_type": "markdown",
   "metadata": {},
   "source": [
    "#### Confusion Matrix"
   ]
  },
  {
   "cell_type": "code",
   "execution_count": 55,
   "metadata": {},
   "outputs": [
    {
     "name": "stdout",
     "output_type": "stream",
     "text": [
      "[[6280 1023]\n",
      " [ 133  802]]\n"
     ]
    },
    {
     "data": {
      "image/png": "[encoded data removed]",
      "text/plain": [
       "<Figure size 640x480 with 2 Axes>"
      ]
     },
     "metadata": {},
     "output_type": "display_data"
    }
   ],
   "source": [
    "oversampled_confusion_matrix = confusion_matrix(y_test, oversampled_testing_predictions)\n",
    "print(oversampled_confusion_matrix)\n",
    "confusion_matrix_display = metrics.ConfusionMatrixDisplay(confusion_matrix=oversampled_confusion_matrix)\n",
    "confusion_matrix_display.plot()\n",
    "plt.show()"
   ]
  },
  {
   "cell_type": "markdown",
   "metadata": {},
   "source": [
    "#### Classification Report"
   ]
  },
  {
   "cell_type": "code",
   "execution_count": 56,
   "metadata": {},
   "outputs": [
    {
     "name": "stdout",
     "output_type": "stream",
     "text": [
      "              precision    recall  f1-score   support\n",
      "\n",
      "           0       0.98      0.86      0.92      7303\n",
      "           1       0.44      0.86      0.58       935\n",
      "\n",
      "    accuracy                           0.86      8238\n",
      "   macro avg       0.71      0.86      0.75      8238\n",
      "weighted avg       0.92      0.86      0.88      8238\n",
      "\n"
     ]
    }
   ],
   "source": [
    "\n",
    "oversampled_classification_report = classification_report(y_test, oversampled_testing_predictions)\n",
    "print(oversampled_classification_report)"
   ]
  }
 ],
 "metadata": {
  "kernelspec": {
   "display_name": "Python 3",
   "language": "python",
   "name": "python3"
  },
  "language_info": {
   "codemirror_mode": {
    "name": "ipython",
    "version": 3
   },
   "file_extension": ".py",
   "mimetype": "text/x-python",
   "name": "python",
   "nbconvert_exporter": "python",
   "pygments_lexer": "ipython3",
   "version": "3.11.3"
  }
 },
 "nbformat": 4,
 "nbformat_minor": 2
}
